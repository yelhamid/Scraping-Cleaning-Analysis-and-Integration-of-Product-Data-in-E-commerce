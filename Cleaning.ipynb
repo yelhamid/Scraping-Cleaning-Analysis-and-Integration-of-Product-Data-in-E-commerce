{
 "cells": [
  {
   "cell_type": "code",
   "execution_count": 66,
   "id": "1b0b1a8e",
   "metadata": {},
   "outputs": [
    {
     "name": "stdout",
     "output_type": "stream",
     "text": [
      "Collecting arabic-reshaper\n",
      "  Downloading arabic_reshaper-3.0.0-py3-none-any.whl (20 kB)\n",
      "Installing collected packages: arabic-reshaper\n",
      "Successfully installed arabic-reshaper-3.0.0\n",
      "Note: you may need to restart the kernel to use updated packages.\n"
     ]
    }
   ],
   "source": [
    "pip install arabic-reshaper"
   ]
  },
  {
   "cell_type": "code",
   "execution_count": 67,
   "id": "499b6921",
   "metadata": {},
   "outputs": [
    {
     "name": "stdout",
     "output_type": "stream",
     "text": [
      "Collecting python-bidi\n",
      "  Downloading python_bidi-0.4.2-py2.py3-none-any.whl (30 kB)\n",
      "Requirement already satisfied: six in c:\\users\\lenovo\\anaconda3\\lib\\site-packages (from python-bidi) (1.16.0)\n",
      "Installing collected packages: python-bidi\n",
      "Successfully installed python-bidi-0.4.2\n",
      "Note: you may need to restart the kernel to use updated packages.\n"
     ]
    }
   ],
   "source": [
    "pip install python-bidi"
   ]
  },
  {
   "cell_type": "code",
   "execution_count": 23,
   "id": "bc435c90",
   "metadata": {},
   "outputs": [
    {
     "name": "stdout",
     "output_type": "stream",
     "text": [
      "Collecting translate\n",
      "  Downloading translate-3.6.1-py2.py3-none-any.whl (12 kB)\n",
      "Requirement already satisfied: click in c:\\users\\lenovo\\anaconda3\\lib\\site-packages (from translate) (8.0.4)\n",
      "Requirement already satisfied: lxml in c:\\users\\lenovo\\anaconda3\\lib\\site-packages (from translate) (4.9.1)\n",
      "Requirement already satisfied: requests in c:\\users\\lenovo\\anaconda3\\lib\\site-packages (from translate) (2.28.1)\n",
      "Collecting libretranslatepy==2.1.1\n",
      "  Downloading libretranslatepy-2.1.1-py3-none-any.whl (3.2 kB)\n",
      "Requirement already satisfied: colorama in c:\\users\\lenovo\\anaconda3\\lib\\site-packages (from click->translate) (0.4.6)\n",
      "Requirement already satisfied: urllib3<1.27,>=1.21.1 in c:\\users\\lenovo\\anaconda3\\lib\\site-packages (from requests->translate) (1.26.11)\n",
      "Requirement already satisfied: charset-normalizer<3,>=2 in c:\\users\\lenovo\\anaconda3\\lib\\site-packages (from requests->translate) (2.0.4)\n",
      "Requirement already satisfied: idna<4,>=2.5 in c:\\users\\lenovo\\anaconda3\\lib\\site-packages (from requests->translate) (3.3)\n",
      "Requirement already satisfied: certifi>=2017.4.17 in c:\\users\\lenovo\\anaconda3\\lib\\site-packages (from requests->translate) (2022.9.14)\n",
      "Installing collected packages: libretranslatepy, translate\n",
      "Successfully installed libretranslatepy-2.1.1 translate-3.6.1\n",
      "Note: you may need to restart the kernel to use updated packages.\n"
     ]
    }
   ],
   "source": [
    "pip install translate"
   ]
  },
  {
   "cell_type": "code",
   "execution_count": 25,
   "id": "1df7f5f5",
   "metadata": {},
   "outputs": [
    {
     "name": "stdout",
     "output_type": "stream",
     "text": [
      "Collecting googletrans==4.0.0-rc1\n",
      "  Downloading googletrans-4.0.0rc1.tar.gz (20 kB)\n",
      "  Preparing metadata (setup.py): started\n",
      "  Preparing metadata (setup.py): finished with status 'done'\n",
      "Collecting httpx==0.13.3\n",
      "  Downloading httpx-0.13.3-py3-none-any.whl (55 kB)\n",
      "     -------------------------------------- 55.1/55.1 kB 407.8 kB/s eta 0:00:00\n",
      "Collecting httpcore==0.9.*\n",
      "  Downloading httpcore-0.9.1-py3-none-any.whl (42 kB)\n",
      "     -------------------------------------- 42.6/42.6 kB 231.4 kB/s eta 0:00:00\n",
      "Collecting chardet==3.*\n",
      "  Downloading chardet-3.0.4-py2.py3-none-any.whl (133 kB)\n",
      "     ------------------------------------ 133.4/133.4 kB 291.7 kB/s eta 0:00:00\n",
      "Collecting rfc3986<2,>=1.3\n",
      "  Downloading rfc3986-1.5.0-py2.py3-none-any.whl (31 kB)\n",
      "Requirement already satisfied: certifi in c:\\users\\lenovo\\anaconda3\\lib\\site-packages (from httpx==0.13.3->googletrans==4.0.0-rc1) (2022.9.14)\n",
      "Collecting hstspreload\n",
      "  Downloading hstspreload-2023.1.1-py3-none-any.whl (1.5 MB)\n",
      "     ---------------------------------------- 1.5/1.5 MB 142.1 kB/s eta 0:00:00\n",
      "Collecting idna==2.*\n",
      "  Using cached idna-2.10-py2.py3-none-any.whl (58 kB)\n",
      "Requirement already satisfied: sniffio in c:\\users\\lenovo\\anaconda3\\lib\\site-packages (from httpx==0.13.3->googletrans==4.0.0-rc1) (1.2.0)\n",
      "Collecting h2==3.*\n",
      "  Downloading h2-3.2.0-py2.py3-none-any.whl (65 kB)\n",
      "     --------------------------------------- 65.0/65.0 kB 59.4 kB/s eta 0:00:00\n",
      "Collecting h11<0.10,>=0.8\n",
      "  Downloading h11-0.9.0-py2.py3-none-any.whl (53 kB)\n",
      "     --------------------------------------- 53.6/53.6 kB 99.0 kB/s eta 0:00:00\n",
      "Collecting hyperframe<6,>=5.2.0\n",
      "  Downloading hyperframe-5.2.0-py2.py3-none-any.whl (12 kB)\n",
      "Collecting hpack<4,>=3.0\n",
      "  Downloading hpack-3.0.0-py2.py3-none-any.whl (38 kB)\n",
      "Building wheels for collected packages: googletrans\n",
      "  Building wheel for googletrans (setup.py): started\n",
      "  Building wheel for googletrans (setup.py): finished with status 'done'\n",
      "  Created wheel for googletrans: filename=googletrans-4.0.0rc1-py3-none-any.whl size=17411 sha256=a7e05086f604852b289569671987030e9f8a1395b14023c9c3d2f71bbdb7b913\n",
      "  Stored in directory: c:\\users\\lenovo\\appdata\\local\\pip\\cache\\wheels\\60\\b3\\27\\d8aff3e2d5c2d0d97a117cdf0d5f13cd121e2c2b5fb49b55a0\n",
      "Successfully built googletrans\n",
      "Installing collected packages: rfc3986, hyperframe, hpack, h11, chardet, idna, hstspreload, h2, httpcore, httpx, googletrans\n",
      "  Attempting uninstall: h11\n",
      "    Found existing installation: h11 0.14.0\n",
      "    Uninstalling h11-0.14.0:\n",
      "      Successfully uninstalled h11-0.14.0\n",
      "  Attempting uninstall: chardet\n",
      "    Found existing installation: chardet 4.0.0\n",
      "    Uninstalling chardet-4.0.0:\n",
      "      Successfully uninstalled chardet-4.0.0\n",
      "  Attempting uninstall: idna\n",
      "    Found existing installation: idna 3.3\n",
      "    Uninstalling idna-3.3:\n",
      "      Successfully uninstalled idna-3.3\n",
      "Successfully installed chardet-3.0.4 googletrans-4.0.0rc1 h11-0.9.0 h2-3.2.0 hpack-3.0.0 hstspreload-2023.1.1 httpcore-0.9.1 httpx-0.13.3 hyperframe-5.2.0 idna-2.10 rfc3986-1.5.0\n",
      "Note: you may need to restart the kernel to use updated packages.\n"
     ]
    },
    {
     "name": "stderr",
     "output_type": "stream",
     "text": [
      "ERROR: pip's dependency resolver does not currently take into account all the packages that are installed. This behaviour is the source of the following dependency conflicts.\n",
      "spyder 5.2.2 requires pyqt5<5.13, which is not installed.\n",
      "spyder 5.2.2 requires pyqtwebengine<5.13, which is not installed.\n",
      "anaconda-project 0.11.1 requires ruamel-yaml, which is not installed.\n",
      "conda-repo-cli 1.0.20 requires clyent==1.2.1, but you have clyent 1.2.2 which is incompatible.\n",
      "conda-repo-cli 1.0.20 requires nbformat==5.4.0, but you have nbformat 5.5.0 which is incompatible.\n"
     ]
    }
   ],
   "source": [
    "pip install googletrans==4.0.0-rc1"
   ]
  },
  {
   "cell_type": "code",
   "execution_count": 1,
   "id": "0faba269",
   "metadata": {},
   "outputs": [],
   "source": [
    "import pandas as pd\n",
    "import numpy as np \n",
    "import re\n",
    "import arabic_reshaper\n",
    "from bidi.algorithm import get_display\n",
    "from googletrans import Translator"
   ]
  },
  {
   "cell_type": "code",
   "execution_count": 2,
   "id": "525216ca",
   "metadata": {},
   "outputs": [],
   "source": [
    "data_set = pd.read_csv('data_set_totale.csv')"
   ]
  },
  {
   "cell_type": "code",
   "execution_count": 3,
   "id": "be5bb49a",
   "metadata": {},
   "outputs": [
    {
     "data": {
      "text/html": [
       "<div>\n",
       "<style scoped>\n",
       "    .dataframe tbody tr th:only-of-type {\n",
       "        vertical-align: middle;\n",
       "    }\n",
       "\n",
       "    .dataframe tbody tr th {\n",
       "        vertical-align: top;\n",
       "    }\n",
       "\n",
       "    .dataframe thead th {\n",
       "        text-align: right;\n",
       "    }\n",
       "</style>\n",
       "<table border=\"1\" class=\"dataframe\">\n",
       "  <thead>\n",
       "    <tr style=\"text-align: right;\">\n",
       "      <th></th>\n",
       "      <th>Id</th>\n",
       "      <th>Lien de produit</th>\n",
       "      <th>Nom</th>\n",
       "      <th>Description</th>\n",
       "      <th>Catégorie</th>\n",
       "      <th>Sous-catégorie</th>\n",
       "      <th>Marque</th>\n",
       "      <th>Prix</th>\n",
       "      <th>Nombre de ventes</th>\n",
       "      <th>Evaluations</th>\n",
       "      <th>Lien de première image</th>\n",
       "    </tr>\n",
       "  </thead>\n",
       "  <tbody>\n",
       "    <tr>\n",
       "      <th>0</th>\n",
       "      <td>amazon_1</td>\n",
       "      <td>https://www.amazon.com/-/ar/dp/B07PXGQC1Q/ref=...</td>\n",
       "      <td>Apple AirPods (2nd Generation) Wireless Ear Bu...</td>\n",
       "      <td>عن هذه السلعة\\nHIGH-QUALITY SOUND — Powered by...</td>\n",
       "      <td>إلكترونيات</td>\n",
       "      <td>اكسسوارات ومستلزمات</td>\n",
       "      <td>Apple</td>\n",
       "      <td>NaN</td>\n",
       "      <td>NaN</td>\n",
       "      <td>4.7</td>\n",
       "      <td>https://m.media-amazon.com/images/I/417OJaY3DA...</td>\n",
       "    </tr>\n",
       "    <tr>\n",
       "      <th>1</th>\n",
       "      <td>amazon_2</td>\n",
       "      <td>https://www.amazon.com/-/ar/dp/B098FKXT8L/ref=...</td>\n",
       "      <td>بوز سماعات بلوتوث لاسلكية كوايت كومفورت 45 بخا...</td>\n",
       "      <td>عن هذه السلعة\\nسماعات رأس لاسلكية بخاصية إلغاء...</td>\n",
       "      <td>إلكترونيات</td>\n",
       "      <td>اكسسوارات ومستلزمات</td>\n",
       "      <td>Bose</td>\n",
       "      <td>299</td>\n",
       "      <td>NaN</td>\n",
       "      <td>4.6</td>\n",
       "      <td>https://m.media-amazon.com/images/I/51guNb9R-9...</td>\n",
       "    </tr>\n",
       "    <tr>\n",
       "      <th>2</th>\n",
       "      <td>amazon_3</td>\n",
       "      <td>https://www.amazon.com/-/ar/dp/B0BQPNMXQV/ref=...</td>\n",
       "      <td>JBL سماعات رأس لاسلكية ترو من فايب بيم - اسود،...</td>\n",
       "      <td>عن هذه السلعة\\nJBL صوت جهوري عميق: احصل على أق...</td>\n",
       "      <td>إلكترونيات</td>\n",
       "      <td>اكسسوارات ومستلزمات</td>\n",
       "      <td>JBL</td>\n",
       "      <td>49</td>\n",
       "      <td>NaN</td>\n",
       "      <td>4.4</td>\n",
       "      <td>https://m.media-amazon.com/images/I/41+1Csr1pS...</td>\n",
       "    </tr>\n",
       "    <tr>\n",
       "      <th>3</th>\n",
       "      <td>amazon_4</td>\n",
       "      <td>https://www.amazon.com/-/ar/dp/B01N7ENHO6/ref=...</td>\n",
       "      <td>سكاي لايت الإطار: إطار صورة رقمي واي فاي مقاس ...</td>\n",
       "      <td>عن هذه السلعة\\nاستخدام مبهج بدون مجهود. لا يتط...</td>\n",
       "      <td>إلكترونيات</td>\n",
       "      <td>اكسسوارات ومستلزمات</td>\n",
       "      <td>Skylight</td>\n",
       "      <td>129</td>\n",
       "      <td>NaN</td>\n",
       "      <td>4.7</td>\n",
       "      <td>https://m.media-amazon.com/images/I/71VfNVFhpt...</td>\n",
       "    </tr>\n",
       "    <tr>\n",
       "      <th>4</th>\n",
       "      <td>amazon_5</td>\n",
       "      <td>https://www.amazon.com/-/ar/dp/B083SH697H/ref=...</td>\n",
       "      <td>اطار صور رقمي ذكي بشاشة لمس IPS LCD مقاس 10.1 ...</td>\n",
       "      <td>عن هذه السلعة\\n【شارك الصور والفيديو بشكل خاص و...</td>\n",
       "      <td>إلكترونيات</td>\n",
       "      <td>اكسسوارات ومستلزمات</td>\n",
       "      <td>akimart</td>\n",
       "      <td>79</td>\n",
       "      <td>NaN</td>\n",
       "      <td>4.6</td>\n",
       "      <td>https://m.media-amazon.com/images/I/71v8cZ36vw...</td>\n",
       "    </tr>\n",
       "    <tr>\n",
       "      <th>...</th>\n",
       "      <td>...</td>\n",
       "      <td>...</td>\n",
       "      <td>...</td>\n",
       "      <td>...</td>\n",
       "      <td>...</td>\n",
       "      <td>...</td>\n",
       "      <td>...</td>\n",
       "      <td>...</td>\n",
       "      <td>...</td>\n",
       "      <td>...</td>\n",
       "      <td>...</td>\n",
       "    </tr>\n",
       "    <tr>\n",
       "      <th>8295</th>\n",
       "      <td>amazon_30783</td>\n",
       "      <td>https://www.amazon.com/-/ar/dp/B0C2P5YPDF/ref=...</td>\n",
       "      <td>مجهر مركب مجهر 40X-2000X مع مرحلة ميكانيكية مز...</td>\n",
       "      <td>عن هذه السلعة\\n【مجهر مركب】: يستخدم المجهر للبا...</td>\n",
       "      <td>إلكترونيات</td>\n",
       "      <td>كاميرات وصور</td>\n",
       "      <td>مجهر إلكتروني مجهر</td>\n",
       "      <td>149</td>\n",
       "      <td>تم شراء 300+ سلعة في الشهر الماضي</td>\n",
       "      <td>4.2</td>\n",
       "      <td>https://m.media-amazon.com/images/I/71hV9tDJnM...</td>\n",
       "    </tr>\n",
       "    <tr>\n",
       "      <th>8296</th>\n",
       "      <td>amazon_30784</td>\n",
       "      <td>https://www.amazon.com/-/ar/dp/B0BGVWTXX8/ref=...</td>\n",
       "      <td>Compound trinocular Microscope, 40X-5000X Magn...</td>\n",
       "      <td>عن هذه السلعة\\n【Trinocular Compound Microscope...</td>\n",
       "      <td>إلكترونيات</td>\n",
       "      <td>كاميرات وصور</td>\n",
       "      <td>NaN</td>\n",
       "      <td>276</td>\n",
       "      <td>تم شراء 100+ سلعة في الشهر الماضي</td>\n",
       "      <td>3.9</td>\n",
       "      <td>https://m.media-amazon.com/images/I/71RcYoJCBr...</td>\n",
       "    </tr>\n",
       "    <tr>\n",
       "      <th>8297</th>\n",
       "      <td>amazon_30785</td>\n",
       "      <td>https://www.amazon.com/-/ar/dp/B0C9MC5D38/ref=...</td>\n",
       "      <td>العاب كاميرا رقمية بتصميم ديناصور للاطفال، [اح...</td>\n",
       "      <td>عن هذه السلعة\\n[ترقية جديدة - كاميرات أمامية و...</td>\n",
       "      <td>إلكترونيات</td>\n",
       "      <td>كاميرات وصور</td>\n",
       "      <td>NaN</td>\n",
       "      <td>28</td>\n",
       "      <td>تم شراء 700+ سلعة في الشهر الماضي</td>\n",
       "      <td>4.4</td>\n",
       "      <td>https://m.media-amazon.com/images/I/61I7QRWcSn...</td>\n",
       "    </tr>\n",
       "    <tr>\n",
       "      <th>8298</th>\n",
       "      <td>amazon_30786</td>\n",
       "      <td>https://www.amazon.com/-/ar/dp/B07922MDPG/ref=...</td>\n",
       "      <td>صندوق إضاءة السطح العلوي لطاولة التصوير الفوتو...</td>\n",
       "      <td>عن هذه السلعة\\n[1× ] صندوق استوديو صور محمول 1...</td>\n",
       "      <td>إلكترونيات</td>\n",
       "      <td>كاميرات وصور</td>\n",
       "      <td>EMART</td>\n",
       "      <td>19</td>\n",
       "      <td>تم شراء 1 ألف+ سلعة في الشهر الماضي</td>\n",
       "      <td>4.4</td>\n",
       "      <td>https://m.media-amazon.com/images/I/61HyRFH--D...</td>\n",
       "    </tr>\n",
       "    <tr>\n",
       "      <th>8299</th>\n",
       "      <td>amazon_30787</td>\n",
       "      <td>https://www.amazon.com/-/ar/dp/B07ZHVVNGC/ref=...</td>\n",
       "      <td>كيت خلفية بورتريه بيضاء سادة مقاس 5 قدم × 7 قد...</td>\n",
       "      <td>عن هذه السلعة\\nالمقاس: 5 × 7 قدم/1.5 × 2.2 متر...</td>\n",
       "      <td>إلكترونيات</td>\n",
       "      <td>كاميرات وصور</td>\n",
       "      <td>ابيض</td>\n",
       "      <td>9</td>\n",
       "      <td>تم شراء 1 ألف+ سلعة في الشهر الماضي</td>\n",
       "      <td>4.4</td>\n",
       "      <td>https://m.media-amazon.com/images/I/51S2L7sQFx...</td>\n",
       "    </tr>\n",
       "  </tbody>\n",
       "</table>\n",
       "<p>8300 rows × 11 columns</p>\n",
       "</div>"
      ],
      "text/plain": [
       "                Id                                    Lien de produit  \\\n",
       "0         amazon_1  https://www.amazon.com/-/ar/dp/B07PXGQC1Q/ref=...   \n",
       "1         amazon_2  https://www.amazon.com/-/ar/dp/B098FKXT8L/ref=...   \n",
       "2         amazon_3  https://www.amazon.com/-/ar/dp/B0BQPNMXQV/ref=...   \n",
       "3         amazon_4  https://www.amazon.com/-/ar/dp/B01N7ENHO6/ref=...   \n",
       "4         amazon_5  https://www.amazon.com/-/ar/dp/B083SH697H/ref=...   \n",
       "...            ...                                                ...   \n",
       "8295  amazon_30783  https://www.amazon.com/-/ar/dp/B0C2P5YPDF/ref=...   \n",
       "8296  amazon_30784  https://www.amazon.com/-/ar/dp/B0BGVWTXX8/ref=...   \n",
       "8297  amazon_30785  https://www.amazon.com/-/ar/dp/B0C9MC5D38/ref=...   \n",
       "8298  amazon_30786  https://www.amazon.com/-/ar/dp/B07922MDPG/ref=...   \n",
       "8299  amazon_30787  https://www.amazon.com/-/ar/dp/B07ZHVVNGC/ref=...   \n",
       "\n",
       "                                                    Nom  \\\n",
       "0     Apple AirPods (2nd Generation) Wireless Ear Bu...   \n",
       "1     بوز سماعات بلوتوث لاسلكية كوايت كومفورت 45 بخا...   \n",
       "2     JBL سماعات رأس لاسلكية ترو من فايب بيم - اسود،...   \n",
       "3     سكاي لايت الإطار: إطار صورة رقمي واي فاي مقاس ...   \n",
       "4     اطار صور رقمي ذكي بشاشة لمس IPS LCD مقاس 10.1 ...   \n",
       "...                                                 ...   \n",
       "8295  مجهر مركب مجهر 40X-2000X مع مرحلة ميكانيكية مز...   \n",
       "8296  Compound trinocular Microscope, 40X-5000X Magn...   \n",
       "8297  العاب كاميرا رقمية بتصميم ديناصور للاطفال، [اح...   \n",
       "8298  صندوق إضاءة السطح العلوي لطاولة التصوير الفوتو...   \n",
       "8299  كيت خلفية بورتريه بيضاء سادة مقاس 5 قدم × 7 قد...   \n",
       "\n",
       "                                            Description   Catégorie  \\\n",
       "0     عن هذه السلعة\\nHIGH-QUALITY SOUND — Powered by...  إلكترونيات   \n",
       "1     عن هذه السلعة\\nسماعات رأس لاسلكية بخاصية إلغاء...  إلكترونيات   \n",
       "2     عن هذه السلعة\\nJBL صوت جهوري عميق: احصل على أق...  إلكترونيات   \n",
       "3     عن هذه السلعة\\nاستخدام مبهج بدون مجهود. لا يتط...  إلكترونيات   \n",
       "4     عن هذه السلعة\\n【شارك الصور والفيديو بشكل خاص و...  إلكترونيات   \n",
       "...                                                 ...         ...   \n",
       "8295  عن هذه السلعة\\n【مجهر مركب】: يستخدم المجهر للبا...  إلكترونيات   \n",
       "8296  عن هذه السلعة\\n【Trinocular Compound Microscope...  إلكترونيات   \n",
       "8297  عن هذه السلعة\\n[ترقية جديدة - كاميرات أمامية و...  إلكترونيات   \n",
       "8298  عن هذه السلعة\\n[1× ] صندوق استوديو صور محمول 1...  إلكترونيات   \n",
       "8299  عن هذه السلعة\\nالمقاس: 5 × 7 قدم/1.5 × 2.2 متر...  إلكترونيات   \n",
       "\n",
       "           Sous-catégorie              Marque Prix  \\\n",
       "0     اكسسوارات ومستلزمات               Apple  NaN   \n",
       "1     اكسسوارات ومستلزمات                Bose  299   \n",
       "2     اكسسوارات ومستلزمات                 JBL   49   \n",
       "3     اكسسوارات ومستلزمات            Skylight  129   \n",
       "4     اكسسوارات ومستلزمات             akimart   79   \n",
       "...                   ...                 ...  ...   \n",
       "8295         كاميرات وصور  مجهر إلكتروني مجهر  149   \n",
       "8296         كاميرات وصور                 NaN  276   \n",
       "8297         كاميرات وصور                 NaN   28   \n",
       "8298         كاميرات وصور               EMART   19   \n",
       "8299         كاميرات وصور                ابيض    9   \n",
       "\n",
       "                         Nombre de ventes  Evaluations  \\\n",
       "0                                     NaN          4.7   \n",
       "1                                     NaN          4.6   \n",
       "2                                     NaN          4.4   \n",
       "3                                     NaN          4.7   \n",
       "4                                     NaN          4.6   \n",
       "...                                   ...          ...   \n",
       "8295    تم شراء 300+ سلعة في الشهر الماضي          4.2   \n",
       "8296    تم شراء 100+ سلعة في الشهر الماضي          3.9   \n",
       "8297    تم شراء 700+ سلعة في الشهر الماضي          4.4   \n",
       "8298  تم شراء 1 ألف+ سلعة في الشهر الماضي          4.4   \n",
       "8299  تم شراء 1 ألف+ سلعة في الشهر الماضي          4.4   \n",
       "\n",
       "                                 Lien de première image  \n",
       "0     https://m.media-amazon.com/images/I/417OJaY3DA...  \n",
       "1     https://m.media-amazon.com/images/I/51guNb9R-9...  \n",
       "2     https://m.media-amazon.com/images/I/41+1Csr1pS...  \n",
       "3     https://m.media-amazon.com/images/I/71VfNVFhpt...  \n",
       "4     https://m.media-amazon.com/images/I/71v8cZ36vw...  \n",
       "...                                                 ...  \n",
       "8295  https://m.media-amazon.com/images/I/71hV9tDJnM...  \n",
       "8296  https://m.media-amazon.com/images/I/71RcYoJCBr...  \n",
       "8297  https://m.media-amazon.com/images/I/61I7QRWcSn...  \n",
       "8298  https://m.media-amazon.com/images/I/61HyRFH--D...  \n",
       "8299  https://m.media-amazon.com/images/I/51S2L7sQFx...  \n",
       "\n",
       "[8300 rows x 11 columns]"
      ]
     },
     "execution_count": 3,
     "metadata": {},
     "output_type": "execute_result"
    }
   ],
   "source": [
    "data_set"
   ]
  },
  {
   "cell_type": "code",
   "execution_count": 3,
   "id": "6f3c093c",
   "metadata": {},
   "outputs": [
    {
     "name": "stdout",
     "output_type": "stream",
     "text": [
      "<class 'pandas.core.frame.DataFrame'>\n",
      "RangeIndex: 8300 entries, 0 to 8299\n",
      "Data columns (total 11 columns):\n",
      " #   Column                  Non-Null Count  Dtype  \n",
      "---  ------                  --------------  -----  \n",
      " 0   Id                      8300 non-null   object \n",
      " 1   Lien de produit         8300 non-null   object \n",
      " 2   Nom                     8291 non-null   object \n",
      " 3   Description             7401 non-null   object \n",
      " 4   Catégorie               8300 non-null   object \n",
      " 5   Sous-catégorie          8300 non-null   object \n",
      " 6   Marque                  4570 non-null   object \n",
      " 7   Prix                    7263 non-null   object \n",
      " 8   Nombre de ventes        6062 non-null   object \n",
      " 9   Evaluations             8202 non-null   float64\n",
      " 10  Lien de première image  8280 non-null   object \n",
      "dtypes: float64(1), object(10)\n",
      "memory usage: 713.4+ KB\n"
     ]
    }
   ],
   "source": [
    "data_set.info()"
   ]
  },
  {
   "cell_type": "code",
   "execution_count": 4,
   "id": "1665ffe7",
   "metadata": {},
   "outputs": [
    {
     "data": {
      "text/plain": [
       "Id                           0\n",
       "Lien de produit              0\n",
       "Nom                          9\n",
       "Description                899\n",
       "Catégorie                    0\n",
       "Sous-catégorie               0\n",
       "Marque                    3730\n",
       "Prix                      1037\n",
       "Nombre de ventes          2238\n",
       "Evaluations                 98\n",
       "Lien de première image      20\n",
       "dtype: int64"
      ]
     },
     "execution_count": 4,
     "metadata": {},
     "output_type": "execute_result"
    }
   ],
   "source": [
    "nan_counts = data_set.isna().sum()\n",
    "nan_counts"
   ]
  },
  {
   "cell_type": "code",
   "execution_count": 5,
   "id": "a3c91cbe",
   "metadata": {},
   "outputs": [],
   "source": [
    "data_set = data_set.dropna(subset=['Nom'])\n",
    "data_set = data_set.dropna(subset=['Lien de première image'])\n",
    "data_set = data_set.dropna(subset=['Description'])\n",
    "\n",
    "# Réindexez le DataFrame après la suppression des lignes\n",
    "data_set = data_set.reset_index(drop=True)"
   ]
  },
  {
   "cell_type": "code",
   "execution_count": 6,
   "id": "4b4a9f30",
   "metadata": {},
   "outputs": [
    {
     "data": {
      "text/plain": [
       "Id                           0\n",
       "Lien de produit              0\n",
       "Nom                          0\n",
       "Description                  0\n",
       "Catégorie                    0\n",
       "Sous-catégorie               0\n",
       "Marque                    2852\n",
       "Prix                       489\n",
       "Nombre de ventes          1683\n",
       "Evaluations                 87\n",
       "Lien de première image       0\n",
       "dtype: int64"
      ]
     },
     "execution_count": 6,
     "metadata": {},
     "output_type": "execute_result"
    }
   ],
   "source": [
    "nan_counts = data_set.isna().sum()\n",
    "nan_counts"
   ]
  },
  {
   "cell_type": "code",
   "execution_count": 32,
   "id": "f4aff042",
   "metadata": {},
   "outputs": [
    {
     "data": {
      "text/plain": [
       "4.7"
      ]
     },
     "execution_count": 32,
     "metadata": {},
     "output_type": "execute_result"
    }
   ],
   "source": [
    "data_set['Evaluations'][675]"
   ]
  },
  {
   "cell_type": "code",
   "execution_count": null,
   "id": "7f7de6fe",
   "metadata": {},
   "outputs": [],
   "source": []
  },
  {
   "cell_type": "markdown",
   "id": "c16befbe",
   "metadata": {},
   "source": [
    "# Prix : Doit être un nombre flottant (float) et ne doit pas être nul. Supprimez toute occurrence des symboles \"USD\" et \"$\"."
   ]
  },
  {
   "cell_type": "code",
   "execution_count": 7,
   "id": "3ad283f7",
   "metadata": {},
   "outputs": [],
   "source": [
    "def nettoyer_prix(prix_col):\n",
    "    \n",
    "    # Supprimer les virgules et le symbole '؜US$'\n",
    "    prix_col = prix_col.apply(lambda x: re.sub(r'[,\\s؜US$]', '', str(x)))\n",
    "    prix_col = prix_col.astype(str).str.replace(r'\\.00', '')\n",
    "    \n",
    "    # Convertir en type numérique\n",
    "    prix_col = pd.to_numeric(prix_col, errors='coerce')\n",
    "    \n",
    "    return prix_col"
   ]
  },
  {
   "cell_type": "markdown",
   "id": "395623c2",
   "metadata": {},
   "source": [
    "# Nom : Champ obligatoire, doit être une chaîne de caractères et non nul."
   ]
  },
  {
   "cell_type": "code",
   "execution_count": null,
   "id": "823d7191",
   "metadata": {},
   "outputs": [],
   "source": [
    "data_set = data_set.dropna(subset=['Nom'])\n",
    "data_set = data_set.reset_index(drop=True)"
   ]
  },
  {
   "cell_type": "code",
   "execution_count": 8,
   "id": "5d2e0e59",
   "metadata": {},
   "outputs": [],
   "source": [
    "def nettoyer_Nom(description):\n",
    "    \n",
    "    description_nettoyee = re.sub(r'[^\\w\\s\\u0600-\\u06FF\\u0750-\\u077F\\u08A0-\\u08FF]+', '', str(description))\n",
    "    description_nettoyee = re.sub(r'\\s+', ' ', description_nettoyee)\n",
    "    return description_nettoyee"
   ]
  },
  {
   "cell_type": "markdown",
   "id": "18db8f15",
   "metadata": {},
   "source": [
    "# Marque : Laissez ce champ vide s'il n'existe pas d'information sur la marque."
   ]
  },
  {
   "cell_type": "code",
   "execution_count": 158,
   "id": "b174c27c",
   "metadata": {},
   "outputs": [],
   "source": [
    "def replace_Mark(mrk):\n",
    "    if pd.isna(mrk):\n",
    "        return ' '\n",
    "    else:\n",
    "        return mrk"
   ]
  },
  {
   "cell_type": "code",
   "execution_count": 159,
   "id": "0951a090",
   "metadata": {},
   "outputs": [],
   "source": [
    "def nettoyer_marque(marque):\n",
    "    # Vérifier si la marque est écrite en arabe\n",
    "    if bool(re.search('[\\u0600-\\u06FF\\u0750-\\u077F\\u08A0-\\u08FF]', marque)):\n",
    "        return ' '\n",
    "    else:\n",
    "        return marque"
   ]
  },
  {
   "cell_type": "markdown",
   "id": "926263ba",
   "metadata": {},
   "source": [
    "# Évaluation : Si absente, utilisez la moyenne de la sous-catégorie correspondante."
   ]
  },
  {
   "cell_type": "code",
   "execution_count": 11,
   "id": "769fad5b",
   "metadata": {},
   "outputs": [],
   "source": [
    "def remplacer_nan_par_moyenne(dataset):\n",
    "    # Assurez-vous que la colonne \"evaluation\" est de type numérique\n",
    "    dataset['Evaluations'] = pd.to_numeric(dataset['Evaluations'], errors='coerce')\n",
    "\n",
    "    # Créez un dictionnaire de sous-catégorie et leur moyenne d'évaluation\n",
    "    moyennes_par_sous_categorie = dataset.groupby('Sous-catégorie')['Evaluations'].mean().to_dict()\n",
    "\n",
    "    # Remplacez les valeurs NaN par la moyenne de la sous-catégorie correspondante\n",
    "    dataset['Evaluations'] = dataset.apply(\n",
    "        lambda row: moyennes_par_sous_categorie[row['Sous-catégorie']] if pd.isna(row['Evaluations']) else row['Evaluations'],\n",
    "        axis=1\n",
    "    )\n",
    "    dataset['Evaluations'] = dataset['Evaluations'].round(1)\n",
    "\n",
    "    return dataset"
   ]
  },
  {
   "cell_type": "markdown",
   "id": "30213306",
   "metadata": {},
   "source": [
    "# Traduction des Descriptions Non Arabes : Si vous rencontrez des descriptions de produits en langue étrangère, veuillez procéder à leur traduction en arabe."
   ]
  },
  {
   "cell_type": "code",
   "execution_count": 12,
   "id": "65747d7e",
   "metadata": {},
   "outputs": [],
   "source": [
    "# Fonction pour traduire une description vers l'arabe\n",
    "def traduire_en_arabe(description):\n",
    "    translator = Translator()\n",
    "    try:\n",
    "        # Utilisez l'API Google Translate pour traduire la description en arabe\n",
    "        translation = translator.translate(description, dest='ar')\n",
    "        return translation.text\n",
    "    except Exception as e:\n",
    "        print(f\"Erreur lors de la traduction : {e}\")\n",
    "        return description"
   ]
  },
  {
   "cell_type": "code",
   "execution_count": 13,
   "id": "3e521c06",
   "metadata": {},
   "outputs": [],
   "source": [
    "data_set['Description'] = data_set['Description'].str.replace('عن هذه السلعة', '')\n",
    "data_set['Description'] = data_set['Description'].str.replace('شاهد المزيد من تفاصيل المنتج', '')\n",
    "data_set['Description'] = data_set['Description'].str.replace('إظهار المزيد', '')"
   ]
  },
  {
   "cell_type": "code",
   "execution_count": null,
   "id": "d328b8cb",
   "metadata": {},
   "outputs": [],
   "source": [
    "# # Appliquer la traduction aux descriptions qui ne sont pas en arabe \n",
    "# data_set_cleaned['Description'] = data_set_cleaned['Description'].apply(lambda x: traduire_en_arabe(x) if not bool(re.search('[\\u0600-\\u06FF\\u0750-\\u077F\\u08A0-\\u08FF]', x)) else x)"
   ]
  },
  {
   "cell_type": "code",
   "execution_count": null,
   "id": "0f90b095",
   "metadata": {},
   "outputs": [],
   "source": []
  },
  {
   "cell_type": "markdown",
   "id": "6e3e6d9f",
   "metadata": {},
   "source": [
    "# Nombre de Ventes : Doit être un entier (int). Remplacez \"تم البيع\" par 0 si cette information n'existe pas."
   ]
  },
  {
   "cell_type": "code",
   "execution_count": 14,
   "id": "801252bc",
   "metadata": {},
   "outputs": [],
   "source": [
    "import re\n",
    "import pandas as pd\n",
    "\n",
    "def cleand_number_v(strr):\n",
    "    if pd.isna(strr):\n",
    "        return 0\n",
    "\n",
    "    # Convert to string if the input is a float\n",
    "    if isinstance(strr, (int, float)):\n",
    "        strr = str(strr)\n",
    "        # print(\"converted\",strr)\n",
    "    \n",
    "    match1 = re.search(r'(\\d+)\\s*آلاف', strr)\n",
    "    match2 = re.search(r'(\\d+)\\s*ألف', strr)\n",
    "    match3 = re.search(r'(\\d+)', strr)\n",
    "    \n",
    "    if match1:\n",
    "        numeric_part = match1.group(1)\n",
    "        return int(numeric_part) * 1000\n",
    "    elif match2:\n",
    "        numeric_part = match2.group(1)\n",
    "        return int(numeric_part) * 1000\n",
    "    elif match3:\n",
    "        numeric_part = match3.group(1)\n",
    "        return int(numeric_part)\n",
    "    else:\n",
    "        print(\"No match found.\", strr)\n",
    "        return 0  # Default to 0 if no match is found\n"
   ]
  },
  {
   "cell_type": "markdown",
   "id": "d7447324",
   "metadata": {},
   "source": [
    "# Liens de l'Image et du Produit : Doivent être des chaînes de caractères et non nuls. Supprimez toutes les guillemets simples et doubles."
   ]
  },
  {
   "cell_type": "code",
   "execution_count": null,
   "id": "c03f914f",
   "metadata": {},
   "outputs": [],
   "source": [
    "# finction :"
   ]
  },
  {
   "cell_type": "markdown",
   "id": "20e5ec9f",
   "metadata": {},
   "source": [
    "# Description : Champ obligatoire. Assurez-vous de retirer tout contenu non pertinent."
   ]
  },
  {
   "cell_type": "code",
   "execution_count": 40,
   "id": "834e07c7",
   "metadata": {},
   "outputs": [],
   "source": [
    "def nettoyer_description(description):\n",
    "    \n",
    "    description_nettoyee = re.sub(r'[^\\w\\s\\u0600-\\u06FF\\u0750-\\u077F\\u08A0-\\u08FF]+', '', str(description))\n",
    "    description_nettoyee = re.sub(r'\\s+', ' ', description_nettoyee)\n",
    "    return description_nettoyee"
   ]
  },
  {
   "cell_type": "markdown",
   "id": "40b7e95d",
   "metadata": {},
   "source": [
    "# Nettoyage des Symboles : Pour tous les champs, éliminez les symboles suivants : ~!@#$%^&*()_+}{[]\":;'?/.>,<|`..."
   ]
  },
  {
   "cell_type": "code",
   "execution_count": 31,
   "id": "d91dbf0f",
   "metadata": {},
   "outputs": [],
   "source": [
    "# fonction :"
   ]
  },
  {
   "cell_type": "markdown",
   "id": "e53dd479",
   "metadata": {},
   "source": [
    "# En-têtes de Fichier CSV : Utilisez les en-têtes suivants, dans l'ordre et la syntaxe exacts : [id,link,name,description,category,subcategory,brand,price,number_of_sales,ratings,image_link]."
   ]
  },
  {
   "cell_type": "code",
   "execution_count": 41,
   "id": "580ccfe8",
   "metadata": {},
   "outputs": [],
   "source": [
    "def renommer_colonnes(df):\n",
    "    # En-têtes spécifiés dans l'ordre exact\n",
    "    nouvelles_colonnes = [\n",
    "        'id', 'link', 'name', 'description', 'category', \n",
    "        'subcategory', 'brand', 'price', 'number_of_sales', \n",
    "        'ratings', 'image_link'\n",
    "    ]\n",
    "    \n",
    "    # Associer les anciennes colonnes aux nouvelles\n",
    "    noms_nouvelles_colonnes = {\n",
    "        'Id': 'id',\n",
    "        'Lien de produit': 'link',\n",
    "        'Nom': 'name',\n",
    "        'Description': 'description',\n",
    "        'Catégorie': 'category',\n",
    "        'Sous-catégorie': 'subcategory',\n",
    "        'Marque': 'brand',\n",
    "        'Prix': 'price',\n",
    "        'Nombre de ventes': 'number_of_sales',\n",
    "        'Evaluations': 'ratings',\n",
    "        'Lien de première image': 'image_link'\n",
    "    }\n",
    "\n",
    "    # Renommer les colonnes\n",
    "    df.rename(columns=noms_nouvelles_colonnes, inplace=True)\n",
    "    \n",
    "    # Réorganiser les colonnes dans l'ordre spécifié\n",
    "    df = df[nouvelles_colonnes]\n",
    "\n",
    "    return df"
   ]
  },
  {
   "cell_type": "code",
   "execution_count": null,
   "id": "f244a9df",
   "metadata": {},
   "outputs": [],
   "source": []
  },
  {
   "cell_type": "code",
   "execution_count": 42,
   "id": "3346cb7a",
   "metadata": {},
   "outputs": [],
   "source": [
    "def traitement(df):\n",
    "    \n",
    "   \n",
    "    df['Nombre de ventes']=df['Nombre de ventes'].apply(cleand_number_v)\n",
    "    df['Marque']=df['Marque'].apply(replace_Mark)\n",
    "    df['Marque'] = df['Marque'].apply(nettoyer_marque)\n",
    "    df['Description'] = df['Description'].apply(nettoyer_description)\n",
    "    df['Nom'] = df['Nom'].apply(nettoyer_Nom)\n",
    "    remplacer_nan_par_moyenne(df)\n",
    "    df['Prix'] = nettoyer_prix(df['Prix']) \n",
    "    df['Description'] = df['Description'].apply(lambda x: traduire_en_arabe(x) if not bool(re.search('[\\u0600-\\u06FF\\u0750-\\u077F\\u08A0-\\u08FF]', x)) else x)\n",
    "    \n",
    "    \n",
    "    df['Lien de première image'] = df['Lien de première image'].astype(str)\n",
    "    df['Nom'] = df['Nom'].astype(str)\n",
    "    df['Catégorie'] = df['Catégorie'].astype(str)\n",
    "    df['Sous-catégorie'] = df['Sous-catégorie'].astype(str)\n",
    "    df['Marque'] = df['Marque'].astype(str)\n",
    "    df['Description'] = df['Description'].astype(str)\n",
    "#     df = renommer_colonnes(df)\n",
    "\n",
    "    return df"
   ]
  },
  {
   "cell_type": "code",
   "execution_count": 43,
   "id": "e9d3f0d6",
   "metadata": {},
   "outputs": [
    {
     "name": "stderr",
     "output_type": "stream",
     "text": [
      "C:\\Users\\lenovo\\AppData\\Local\\Temp\\ipykernel_14108\\3426515781.py:7: FutureWarning: The default value of regex will change from True to False in a future version.\n",
      "  prix_col = prix_col.astype(str).str.replace(r'\\.00', '')\n"
     ]
    }
   ],
   "source": [
    "data_set_cleaned = traitement(data_set)"
   ]
  },
  {
   "cell_type": "code",
   "execution_count": 57,
   "id": "7e742373",
   "metadata": {},
   "outputs": [],
   "source": [
    "data_set_cleaned = renommer_colonnes(data_set_cleaned)"
   ]
  },
  {
   "cell_type": "code",
   "execution_count": 58,
   "id": "9aee2266",
   "metadata": {},
   "outputs": [
    {
     "data": {
      "text/html": [
       "<div>\n",
       "<style scoped>\n",
       "    .dataframe tbody tr th:only-of-type {\n",
       "        vertical-align: middle;\n",
       "    }\n",
       "\n",
       "    .dataframe tbody tr th {\n",
       "        vertical-align: top;\n",
       "    }\n",
       "\n",
       "    .dataframe thead th {\n",
       "        text-align: right;\n",
       "    }\n",
       "</style>\n",
       "<table border=\"1\" class=\"dataframe\">\n",
       "  <thead>\n",
       "    <tr style=\"text-align: right;\">\n",
       "      <th></th>\n",
       "      <th>id</th>\n",
       "      <th>link</th>\n",
       "      <th>name</th>\n",
       "      <th>description</th>\n",
       "      <th>category</th>\n",
       "      <th>subcategory</th>\n",
       "      <th>brand</th>\n",
       "      <th>price</th>\n",
       "      <th>number_of_sales</th>\n",
       "      <th>ratings</th>\n",
       "      <th>image_link</th>\n",
       "    </tr>\n",
       "  </thead>\n",
       "  <tbody>\n",
       "    <tr>\n",
       "      <th>0</th>\n",
       "      <td>amazon_1</td>\n",
       "      <td>https://www.amazon.com/-/ar/dp/B07PXGQC1Q/ref=...</td>\n",
       "      <td>Apple AirPods 2nd Generation Wireless Ear Buds...</td>\n",
       "      <td>يوفر الجيل الثاني من Apple H1 H1 Sephone Gener...</td>\n",
       "      <td>إلكترونيات</td>\n",
       "      <td>اكسسوارات ومستلزمات</td>\n",
       "      <td>Apple</td>\n",
       "      <td>36.0</td>\n",
       "      <td>0</td>\n",
       "      <td>4.7</td>\n",
       "      <td>https://m.media-amazon.com/images/I/417OJaY3DA...</td>\n",
       "    </tr>\n",
       "    <tr>\n",
       "      <th>1</th>\n",
       "      <td>amazon_2</td>\n",
       "      <td>https://www.amazon.com/-/ar/dp/B098FKXT8L/ref=...</td>\n",
       "      <td>بوز سماعات بلوتوث لاسلكية كوايت كومفورت 45 بخا...</td>\n",
       "      <td>سماعات رأس لاسلكية بخاصية إلغاء الضوضاء التوا...</td>\n",
       "      <td>إلكترونيات</td>\n",
       "      <td>اكسسوارات ومستلزمات</td>\n",
       "      <td>Bose</td>\n",
       "      <td>299.0</td>\n",
       "      <td>0</td>\n",
       "      <td>4.6</td>\n",
       "      <td>https://m.media-amazon.com/images/I/51guNb9R-9...</td>\n",
       "    </tr>\n",
       "    <tr>\n",
       "      <th>2</th>\n",
       "      <td>amazon_3</td>\n",
       "      <td>https://www.amazon.com/-/ar/dp/B0BQPNMXQV/ref=...</td>\n",
       "      <td>JBL سماعات رأس لاسلكية ترو من فايب بيم اسود، م...</td>\n",
       "      <td>JBL صوت جهوري عميق احصل على أقصى استفادة من خ...</td>\n",
       "      <td>إلكترونيات</td>\n",
       "      <td>اكسسوارات ومستلزمات</td>\n",
       "      <td>JBL</td>\n",
       "      <td>49.0</td>\n",
       "      <td>0</td>\n",
       "      <td>4.4</td>\n",
       "      <td>https://m.media-amazon.com/images/I/41+1Csr1pS...</td>\n",
       "    </tr>\n",
       "    <tr>\n",
       "      <th>3</th>\n",
       "      <td>amazon_4</td>\n",
       "      <td>https://www.amazon.com/-/ar/dp/B01N7ENHO6/ref=...</td>\n",
       "      <td>سكاي لايت الإطار إطار صورة رقمي واي فاي مقاس 1...</td>\n",
       "      <td>استخدام مبهج بدون مجهود لا يتطلب تطبيق أو اشت...</td>\n",
       "      <td>إلكترونيات</td>\n",
       "      <td>اكسسوارات ومستلزمات</td>\n",
       "      <td>Skylight</td>\n",
       "      <td>129.0</td>\n",
       "      <td>0</td>\n",
       "      <td>4.7</td>\n",
       "      <td>https://m.media-amazon.com/images/I/71VfNVFhpt...</td>\n",
       "    </tr>\n",
       "    <tr>\n",
       "      <th>4</th>\n",
       "      <td>amazon_5</td>\n",
       "      <td>https://www.amazon.com/-/ar/dp/B083SH697H/ref=...</td>\n",
       "      <td>اطار صور رقمي ذكي بشاشة لمس IPS LCD مقاس 101 ا...</td>\n",
       "      <td>شارك الصور والفيديو بشكل خاص وآمن أرسل الصور ...</td>\n",
       "      <td>إلكترونيات</td>\n",
       "      <td>اكسسوارات ومستلزمات</td>\n",
       "      <td>akimart</td>\n",
       "      <td>79.0</td>\n",
       "      <td>0</td>\n",
       "      <td>4.6</td>\n",
       "      <td>https://m.media-amazon.com/images/I/71v8cZ36vw...</td>\n",
       "    </tr>\n",
       "    <tr>\n",
       "      <th>...</th>\n",
       "      <td>...</td>\n",
       "      <td>...</td>\n",
       "      <td>...</td>\n",
       "      <td>...</td>\n",
       "      <td>...</td>\n",
       "      <td>...</td>\n",
       "      <td>...</td>\n",
       "      <td>...</td>\n",
       "      <td>...</td>\n",
       "      <td>...</td>\n",
       "      <td>...</td>\n",
       "    </tr>\n",
       "    <tr>\n",
       "      <th>7396</th>\n",
       "      <td>amazon_30783</td>\n",
       "      <td>https://www.amazon.com/-/ar/dp/B0C2P5YPDF/ref=...</td>\n",
       "      <td>مجهر مركب مجهر 40X2000X مع مرحلة ميكانيكية مزد...</td>\n",
       "      <td>مجهر مركب يستخدم المجهر للبالغين على نطاق واس...</td>\n",
       "      <td>إلكترونيات</td>\n",
       "      <td>كاميرات وصور</td>\n",
       "      <td></td>\n",
       "      <td>149.0</td>\n",
       "      <td>300</td>\n",
       "      <td>4.2</td>\n",
       "      <td>https://m.media-amazon.com/images/I/71hV9tDJnM...</td>\n",
       "    </tr>\n",
       "    <tr>\n",
       "      <th>7397</th>\n",
       "      <td>amazon_30784</td>\n",
       "      <td>https://www.amazon.com/-/ar/dp/B0BGVWTXX8/ref=...</td>\n",
       "      <td>Compound trinocular Microscope 40X5000X Magnif...</td>\n",
       "      <td>تم تصميم المجهر البيولوجي المجهر المركب Trinoc...</td>\n",
       "      <td>إلكترونيات</td>\n",
       "      <td>كاميرات وصور</td>\n",
       "      <td></td>\n",
       "      <td>276.0</td>\n",
       "      <td>100</td>\n",
       "      <td>3.9</td>\n",
       "      <td>https://m.media-amazon.com/images/I/71RcYoJCBr...</td>\n",
       "    </tr>\n",
       "    <tr>\n",
       "      <th>7398</th>\n",
       "      <td>amazon_30785</td>\n",
       "      <td>https://www.amazon.com/-/ar/dp/B0C9MC5D38/ref=...</td>\n",
       "      <td>العاب كاميرا رقمية بتصميم ديناصور للاطفال، احد...</td>\n",
       "      <td>ترقية جديدة كاميرات أمامية وخلفية مزدوجة بدقة...</td>\n",
       "      <td>إلكترونيات</td>\n",
       "      <td>كاميرات وصور</td>\n",
       "      <td></td>\n",
       "      <td>28.0</td>\n",
       "      <td>700</td>\n",
       "      <td>4.4</td>\n",
       "      <td>https://m.media-amazon.com/images/I/61I7QRWcSn...</td>\n",
       "    </tr>\n",
       "    <tr>\n",
       "      <th>7399</th>\n",
       "      <td>amazon_30786</td>\n",
       "      <td>https://www.amazon.com/-/ar/dp/B07922MDPG/ref=...</td>\n",
       "      <td>صندوق إضاءة السطح العلوي لطاولة التصوير الفوتو...</td>\n",
       "      <td>1 صندوق استوديو صور محمول 14 بوصة 16 بوصة ، إ...</td>\n",
       "      <td>إلكترونيات</td>\n",
       "      <td>كاميرات وصور</td>\n",
       "      <td>EMART</td>\n",
       "      <td>19.0</td>\n",
       "      <td>1000</td>\n",
       "      <td>4.4</td>\n",
       "      <td>https://m.media-amazon.com/images/I/61HyRFH--D...</td>\n",
       "    </tr>\n",
       "    <tr>\n",
       "      <th>7400</th>\n",
       "      <td>amazon_30787</td>\n",
       "      <td>https://www.amazon.com/-/ar/dp/B07ZHVVNGC/ref=...</td>\n",
       "      <td>كيت خلفية بورتريه بيضاء سادة مقاس 5 قدم 7 قدم ...</td>\n",
       "      <td>المقاس 5 7 قدم15 22 متر عرض 15 متر، ارتفاع 22...</td>\n",
       "      <td>إلكترونيات</td>\n",
       "      <td>كاميرات وصور</td>\n",
       "      <td></td>\n",
       "      <td>9.0</td>\n",
       "      <td>1000</td>\n",
       "      <td>4.4</td>\n",
       "      <td>https://m.media-amazon.com/images/I/51S2L7sQFx...</td>\n",
       "    </tr>\n",
       "  </tbody>\n",
       "</table>\n",
       "<p>7401 rows × 11 columns</p>\n",
       "</div>"
      ],
      "text/plain": [
       "                id                                               link  \\\n",
       "0         amazon_1  https://www.amazon.com/-/ar/dp/B07PXGQC1Q/ref=...   \n",
       "1         amazon_2  https://www.amazon.com/-/ar/dp/B098FKXT8L/ref=...   \n",
       "2         amazon_3  https://www.amazon.com/-/ar/dp/B0BQPNMXQV/ref=...   \n",
       "3         amazon_4  https://www.amazon.com/-/ar/dp/B01N7ENHO6/ref=...   \n",
       "4         amazon_5  https://www.amazon.com/-/ar/dp/B083SH697H/ref=...   \n",
       "...            ...                                                ...   \n",
       "7396  amazon_30783  https://www.amazon.com/-/ar/dp/B0C2P5YPDF/ref=...   \n",
       "7397  amazon_30784  https://www.amazon.com/-/ar/dp/B0BGVWTXX8/ref=...   \n",
       "7398  amazon_30785  https://www.amazon.com/-/ar/dp/B0C9MC5D38/ref=...   \n",
       "7399  amazon_30786  https://www.amazon.com/-/ar/dp/B07922MDPG/ref=...   \n",
       "7400  amazon_30787  https://www.amazon.com/-/ar/dp/B07ZHVVNGC/ref=...   \n",
       "\n",
       "                                                   name  \\\n",
       "0     Apple AirPods 2nd Generation Wireless Ear Buds...   \n",
       "1     بوز سماعات بلوتوث لاسلكية كوايت كومفورت 45 بخا...   \n",
       "2     JBL سماعات رأس لاسلكية ترو من فايب بيم اسود، م...   \n",
       "3     سكاي لايت الإطار إطار صورة رقمي واي فاي مقاس 1...   \n",
       "4     اطار صور رقمي ذكي بشاشة لمس IPS LCD مقاس 101 ا...   \n",
       "...                                                 ...   \n",
       "7396  مجهر مركب مجهر 40X2000X مع مرحلة ميكانيكية مزد...   \n",
       "7397  Compound trinocular Microscope 40X5000X Magnif...   \n",
       "7398  العاب كاميرا رقمية بتصميم ديناصور للاطفال، احد...   \n",
       "7399  صندوق إضاءة السطح العلوي لطاولة التصوير الفوتو...   \n",
       "7400  كيت خلفية بورتريه بيضاء سادة مقاس 5 قدم 7 قدم ...   \n",
       "\n",
       "                                            description    category  \\\n",
       "0     يوفر الجيل الثاني من Apple H1 H1 Sephone Gener...  إلكترونيات   \n",
       "1      سماعات رأس لاسلكية بخاصية إلغاء الضوضاء التوا...  إلكترونيات   \n",
       "2      JBL صوت جهوري عميق احصل على أقصى استفادة من خ...  إلكترونيات   \n",
       "3      استخدام مبهج بدون مجهود لا يتطلب تطبيق أو اشت...  إلكترونيات   \n",
       "4      شارك الصور والفيديو بشكل خاص وآمن أرسل الصور ...  إلكترونيات   \n",
       "...                                                 ...         ...   \n",
       "7396   مجهر مركب يستخدم المجهر للبالغين على نطاق واس...  إلكترونيات   \n",
       "7397  تم تصميم المجهر البيولوجي المجهر المركب Trinoc...  إلكترونيات   \n",
       "7398   ترقية جديدة كاميرات أمامية وخلفية مزدوجة بدقة...  إلكترونيات   \n",
       "7399   1 صندوق استوديو صور محمول 14 بوصة 16 بوصة ، إ...  إلكترونيات   \n",
       "7400   المقاس 5 7 قدم15 22 متر عرض 15 متر، ارتفاع 22...  إلكترونيات   \n",
       "\n",
       "              subcategory     brand  price  number_of_sales  ratings  \\\n",
       "0     اكسسوارات ومستلزمات     Apple   36.0                0      4.7   \n",
       "1     اكسسوارات ومستلزمات      Bose  299.0                0      4.6   \n",
       "2     اكسسوارات ومستلزمات       JBL   49.0                0      4.4   \n",
       "3     اكسسوارات ومستلزمات  Skylight  129.0                0      4.7   \n",
       "4     اكسسوارات ومستلزمات   akimart   79.0                0      4.6   \n",
       "...                   ...       ...    ...              ...      ...   \n",
       "7396         كاميرات وصور            149.0              300      4.2   \n",
       "7397         كاميرات وصور            276.0              100      3.9   \n",
       "7398         كاميرات وصور             28.0              700      4.4   \n",
       "7399         كاميرات وصور     EMART   19.0             1000      4.4   \n",
       "7400         كاميرات وصور              9.0             1000      4.4   \n",
       "\n",
       "                                             image_link  \n",
       "0     https://m.media-amazon.com/images/I/417OJaY3DA...  \n",
       "1     https://m.media-amazon.com/images/I/51guNb9R-9...  \n",
       "2     https://m.media-amazon.com/images/I/41+1Csr1pS...  \n",
       "3     https://m.media-amazon.com/images/I/71VfNVFhpt...  \n",
       "4     https://m.media-amazon.com/images/I/71v8cZ36vw...  \n",
       "...                                                 ...  \n",
       "7396  https://m.media-amazon.com/images/I/71hV9tDJnM...  \n",
       "7397  https://m.media-amazon.com/images/I/71RcYoJCBr...  \n",
       "7398  https://m.media-amazon.com/images/I/61I7QRWcSn...  \n",
       "7399  https://m.media-amazon.com/images/I/61HyRFH--D...  \n",
       "7400  https://m.media-amazon.com/images/I/51S2L7sQFx...  \n",
       "\n",
       "[7401 rows x 11 columns]"
      ]
     },
     "execution_count": 58,
     "metadata": {},
     "output_type": "execute_result"
    }
   ],
   "source": [
    "data_set_cleaned"
   ]
  },
  {
   "cell_type": "code",
   "execution_count": 48,
   "id": "57633907",
   "metadata": {},
   "outputs": [
    {
     "name": "stdout",
     "output_type": "stream",
     "text": [
      "<class 'pandas.core.frame.DataFrame'>\n",
      "RangeIndex: 7401 entries, 0 to 7400\n",
      "Data columns (total 11 columns):\n",
      " #   Column                  Non-Null Count  Dtype  \n",
      "---  ------                  --------------  -----  \n",
      " 0   Id                      7401 non-null   object \n",
      " 1   Lien de produit         7401 non-null   object \n",
      " 2   Nom                     7401 non-null   object \n",
      " 3   Description             7401 non-null   object \n",
      " 4   Catégorie               7401 non-null   object \n",
      " 5   Sous-catégorie          7401 non-null   object \n",
      " 6   Marque                  7401 non-null   object \n",
      " 7   Prix                    7401 non-null   float64\n",
      " 8   Nombre de ventes        7401 non-null   int64  \n",
      " 9   Evaluations             7401 non-null   float64\n",
      " 10  Lien de première image  7401 non-null   object \n",
      "dtypes: float64(2), int64(1), object(8)\n",
      "memory usage: 636.1+ KB\n"
     ]
    }
   ],
   "source": [
    "data_set_cleaned.info()"
   ]
  },
  {
   "cell_type": "code",
   "execution_count": 49,
   "id": "6445012f",
   "metadata": {},
   "outputs": [
    {
     "data": {
      "text/plain": [
       "Id                        0\n",
       "Lien de produit           0\n",
       "Nom                       0\n",
       "Description               0\n",
       "Catégorie                 0\n",
       "Sous-catégorie            0\n",
       "Marque                    0\n",
       "Prix                      0\n",
       "Nombre de ventes          0\n",
       "Evaluations               0\n",
       "Lien de première image    0\n",
       "dtype: int64"
      ]
     },
     "execution_count": 49,
     "metadata": {},
     "output_type": "execute_result"
    }
   ],
   "source": [
    "nan_counts_clean = data_set_cleaned.isna().sum()\n",
    "nan_counts_clean"
   ]
  },
  {
   "cell_type": "code",
   "execution_count": 56,
   "id": "657e9e0b",
   "metadata": {},
   "outputs": [
    {
     "data": {
      "text/plain": [
       "كو باك حافظة لجهاز كيندل بيبر وايت غطاء من الجلد الصناعي الجديد بالكامل مع ميزة التنبيه التلقائي لجهاز كيندل بيبر وايت سيجنتشر ايديشن وكيندل بيبر وايت الجيل الحادي عشر اصدار 2021                                            6\n",
       "فيتبيت جهاز تتبع اللياقة البدنية تشارج 6 مع تطبيقات جوجل، معدل ضربات القلب على معدات التمارين الرياضية، عضوية ممتازة لمدة 6 اشهر، نظام تحديد المواقع، ادوات صحية واكثر من ذلك، زجاج بركانياسود، مقاس واحد تتضمن اساور S وL    4\n",
       "انكر كيبل شاحن USB C عبوتان، 6 اقدام، كيبل شحن سريع 310 نوع C مضفر USB A الى USB C للشحن السريع لسامسونج جالكسي نوت 10 نوت 9S10 S10، ال جي V30 USB 20، اسود                                                                   4\n",
       "ايتجوودز كيبل شحن سريع 3 قدم 3 امبير من قطعتين من USB A الى النوع C مضفر متوافق مع سامسونج جالكسي A10e A20 A50 A51 A71 S20 S10 S9 S8 بلس S10E نوت 20 10 9 8 موتو G7 G8                                                        4\n",
       "جهاز عرض اصلي 1080P بتقنية واي فاي وبلوتوث 5G شاشة عرض متضمنة، جهاز عرض روكونيا 9000 لومن FHD لعرض الافلام، شاشة 300 انش تدعم المسرح المنزلي 4 كيه، متوافق مع iOS واندرويد واكس بوكس وبلاي ستيشن 4 وتي في ستيك وHDMI وUSB     4\n",
       "                                                                                                                                                                                                                             ..\n",
       "Wireless Controller for PS4 Controller for Sony PlayStation 4 Double Shock 6Axis Motion Sensor Sensitive Touch Pad Builtin Speaker Stereo Headphone Jack Compatible with PlayStation 4ProSlim                                 1\n",
       "CRKD Nitro Deck Professional Handheld Deck with Zero Stick Drift for Nintendo Switch and Switch OLED Black                                                                                                                    1\n",
       "Turtle Beach Stealth 600 Gen 2 Wireless Gaming Headset for PS5 PS4 PS4 Pro PlayStation Nintendo Switch with 50mm Speakers 15Hour Battery life FliptoMute Mic and Spatial Audio Black                                          1\n",
       "حافظة حماية لجهاز نينتندو سويتش لايت، حافظة متوافقة مع نينتندو سويتش لايت، حافظة بمقبض يد مع واقي شاشة مدمج من البولي يوريثين الحراري واقي شاشة مدمج من البولي كربونات و2 غطاء مقبض الابهام ازرق كحلي                         1\n",
       "كيت خلفية بورتريه بيضاء سادة مقاس 5 قدم 7 قدم لاستوديو التصوير الفوتوغرافي للاطفال ولالتقاط الصور الفوتوغرافية والفيديو والتلفزيون                                                                                            1\n",
       "Name: Nom, Length: 5730, dtype: int64"
      ]
     },
     "execution_count": 56,
     "metadata": {},
     "output_type": "execute_result"
    }
   ],
   "source": [
    "data_set_cleaned['Nom'].value_counts() "
   ]
  },
  {
   "cell_type": "markdown",
   "id": "cf0128b1",
   "metadata": {},
   "source": [
    "# Fichiers par Catégorie : Chaque catégorie doit avoir son propre fichier CSV, avec les IDs amazon_el pour إلكترونيات et amazon_sp pour الرياضة والأنشطة الخارجية ."
   ]
  },
  {
   "cell_type": "code",
   "execution_count": 68,
   "id": "499a000a",
   "metadata": {},
   "outputs": [],
   "source": [
    "df_Amazon_Electronique = data_set_cleaned[data_set_cleaned['category'] == 'إلكترونيات']\n",
    "df_Amazon_Electronique = df_Amazon_Electronique.reset_index(drop=True)\n",
    "\n",
    "df_Amazon_sport = data_set_cleaned[data_set_cleaned['category'] == 'الرياضة والأنشطة الخارجية']\n",
    "df_Amazon_sport = df_Amazon_sport.reset_index(drop=True)"
   ]
  },
  {
   "cell_type": "code",
   "execution_count": 69,
   "id": "e6940f60",
   "metadata": {},
   "outputs": [],
   "source": [
    "df_Amazon_Electronique['id'] = df_Amazon_Electronique.index.map(lambda i: f'amazon_el_{i}')\n",
    "df_Amazon_sport['id'] = df_Amazon_sport.index.map(lambda i: f'amazon_sp_{i}')"
   ]
  },
  {
   "cell_type": "code",
   "execution_count": null,
   "id": "95345168",
   "metadata": {},
   "outputs": [],
   "source": []
  },
  {
   "cell_type": "code",
   "execution_count": 156,
   "id": "f79490e7",
   "metadata": {},
   "outputs": [
    {
     "data": {
      "text/html": [
       "<div>\n",
       "<style scoped>\n",
       "    .dataframe tbody tr th:only-of-type {\n",
       "        vertical-align: middle;\n",
       "    }\n",
       "\n",
       "    .dataframe tbody tr th {\n",
       "        vertical-align: top;\n",
       "    }\n",
       "\n",
       "    .dataframe thead th {\n",
       "        text-align: right;\n",
       "    }\n",
       "</style>\n",
       "<table border=\"1\" class=\"dataframe\">\n",
       "  <thead>\n",
       "    <tr style=\"text-align: right;\">\n",
       "      <th></th>\n",
       "      <th>id</th>\n",
       "      <th>link</th>\n",
       "      <th>name</th>\n",
       "      <th>description</th>\n",
       "      <th>category</th>\n",
       "      <th>subcategory</th>\n",
       "      <th>brand</th>\n",
       "      <th>price</th>\n",
       "      <th>number_of_sales</th>\n",
       "      <th>ratings</th>\n",
       "      <th>image_link</th>\n",
       "    </tr>\n",
       "  </thead>\n",
       "  <tbody>\n",
       "    <tr>\n",
       "      <th>0</th>\n",
       "      <td>amazon_el_0</td>\n",
       "      <td>https://www.amazon.com/-/ar/dp/B07PXGQC1Q/ref=...</td>\n",
       "      <td>Apple AirPods 2nd Generation Wireless Ear Buds...</td>\n",
       "      <td>يوفر الجيل الثاني من Apple H1 H1 Sephone Gener...</td>\n",
       "      <td>إلكترونيات</td>\n",
       "      <td>اكسسوارات ومستلزمات</td>\n",
       "      <td>Apple</td>\n",
       "      <td>36.0</td>\n",
       "      <td>0</td>\n",
       "      <td>4.7</td>\n",
       "      <td>https://m.media-amazon.com/images/I/417OJaY3DA...</td>\n",
       "    </tr>\n",
       "    <tr>\n",
       "      <th>1</th>\n",
       "      <td>amazon_el_1</td>\n",
       "      <td>https://www.amazon.com/-/ar/dp/B098FKXT8L/ref=...</td>\n",
       "      <td>بوز سماعات بلوتوث لاسلكية كوايت كومفورت 45 بخا...</td>\n",
       "      <td>سماعات رأس لاسلكية بخاصية إلغاء الضوضاء التوا...</td>\n",
       "      <td>إلكترونيات</td>\n",
       "      <td>اكسسوارات ومستلزمات</td>\n",
       "      <td>Bose</td>\n",
       "      <td>299.0</td>\n",
       "      <td>0</td>\n",
       "      <td>4.6</td>\n",
       "      <td>https://m.media-amazon.com/images/I/51guNb9R-9...</td>\n",
       "    </tr>\n",
       "    <tr>\n",
       "      <th>2</th>\n",
       "      <td>amazon_el_2</td>\n",
       "      <td>https://www.amazon.com/-/ar/dp/B0BQPNMXQV/ref=...</td>\n",
       "      <td>JBL سماعات رأس لاسلكية ترو من فايب بيم اسود، م...</td>\n",
       "      <td>JBL صوت جهوري عميق احصل على أقصى استفادة من خ...</td>\n",
       "      <td>إلكترونيات</td>\n",
       "      <td>اكسسوارات ومستلزمات</td>\n",
       "      <td>JBL</td>\n",
       "      <td>49.0</td>\n",
       "      <td>0</td>\n",
       "      <td>4.4</td>\n",
       "      <td>https://m.media-amazon.com/images/I/41+1Csr1pS...</td>\n",
       "    </tr>\n",
       "    <tr>\n",
       "      <th>3</th>\n",
       "      <td>amazon_el_3</td>\n",
       "      <td>https://www.amazon.com/-/ar/dp/B01N7ENHO6/ref=...</td>\n",
       "      <td>سكاي لايت الإطار إطار صورة رقمي واي فاي مقاس 1...</td>\n",
       "      <td>استخدام مبهج بدون مجهود لا يتطلب تطبيق أو اشت...</td>\n",
       "      <td>إلكترونيات</td>\n",
       "      <td>اكسسوارات ومستلزمات</td>\n",
       "      <td>Skylight</td>\n",
       "      <td>129.0</td>\n",
       "      <td>0</td>\n",
       "      <td>4.7</td>\n",
       "      <td>https://m.media-amazon.com/images/I/71VfNVFhpt...</td>\n",
       "    </tr>\n",
       "    <tr>\n",
       "      <th>4</th>\n",
       "      <td>amazon_el_4</td>\n",
       "      <td>https://www.amazon.com/-/ar/dp/B083SH697H/ref=...</td>\n",
       "      <td>اطار صور رقمي ذكي بشاشة لمس IPS LCD مقاس 101 ا...</td>\n",
       "      <td>شارك الصور والفيديو بشكل خاص وآمن أرسل الصور ...</td>\n",
       "      <td>إلكترونيات</td>\n",
       "      <td>اكسسوارات ومستلزمات</td>\n",
       "      <td>akimart</td>\n",
       "      <td>79.0</td>\n",
       "      <td>0</td>\n",
       "      <td>4.6</td>\n",
       "      <td>https://m.media-amazon.com/images/I/71v8cZ36vw...</td>\n",
       "    </tr>\n",
       "    <tr>\n",
       "      <th>...</th>\n",
       "      <td>...</td>\n",
       "      <td>...</td>\n",
       "      <td>...</td>\n",
       "      <td>...</td>\n",
       "      <td>...</td>\n",
       "      <td>...</td>\n",
       "      <td>...</td>\n",
       "      <td>...</td>\n",
       "      <td>...</td>\n",
       "      <td>...</td>\n",
       "      <td>...</td>\n",
       "    </tr>\n",
       "    <tr>\n",
       "      <th>5787</th>\n",
       "      <td>amazon_el_5787</td>\n",
       "      <td>https://www.amazon.com/-/ar/dp/B0C2P5YPDF/ref=...</td>\n",
       "      <td>مجهر مركب مجهر 40X2000X مع مرحلة ميكانيكية مزد...</td>\n",
       "      <td>مجهر مركب يستخدم المجهر للبالغين على نطاق واس...</td>\n",
       "      <td>إلكترونيات</td>\n",
       "      <td>كاميرات وصور</td>\n",
       "      <td></td>\n",
       "      <td>149.0</td>\n",
       "      <td>300</td>\n",
       "      <td>4.2</td>\n",
       "      <td>https://m.media-amazon.com/images/I/71hV9tDJnM...</td>\n",
       "    </tr>\n",
       "    <tr>\n",
       "      <th>5788</th>\n",
       "      <td>amazon_el_5788</td>\n",
       "      <td>https://www.amazon.com/-/ar/dp/B0BGVWTXX8/ref=...</td>\n",
       "      <td>Compound trinocular Microscope 40X5000X Magnif...</td>\n",
       "      <td>تم تصميم المجهر البيولوجي المجهر المركب Trinoc...</td>\n",
       "      <td>إلكترونيات</td>\n",
       "      <td>كاميرات وصور</td>\n",
       "      <td></td>\n",
       "      <td>276.0</td>\n",
       "      <td>100</td>\n",
       "      <td>3.9</td>\n",
       "      <td>https://m.media-amazon.com/images/I/71RcYoJCBr...</td>\n",
       "    </tr>\n",
       "    <tr>\n",
       "      <th>5789</th>\n",
       "      <td>amazon_el_5789</td>\n",
       "      <td>https://www.amazon.com/-/ar/dp/B0C9MC5D38/ref=...</td>\n",
       "      <td>العاب كاميرا رقمية بتصميم ديناصور للاطفال، احد...</td>\n",
       "      <td>ترقية جديدة كاميرات أمامية وخلفية مزدوجة بدقة...</td>\n",
       "      <td>إلكترونيات</td>\n",
       "      <td>كاميرات وصور</td>\n",
       "      <td></td>\n",
       "      <td>28.0</td>\n",
       "      <td>700</td>\n",
       "      <td>4.4</td>\n",
       "      <td>https://m.media-amazon.com/images/I/61I7QRWcSn...</td>\n",
       "    </tr>\n",
       "    <tr>\n",
       "      <th>5790</th>\n",
       "      <td>amazon_el_5790</td>\n",
       "      <td>https://www.amazon.com/-/ar/dp/B07922MDPG/ref=...</td>\n",
       "      <td>صندوق إضاءة السطح العلوي لطاولة التصوير الفوتو...</td>\n",
       "      <td>1 صندوق استوديو صور محمول 14 بوصة 16 بوصة ، إ...</td>\n",
       "      <td>إلكترونيات</td>\n",
       "      <td>كاميرات وصور</td>\n",
       "      <td>EMART</td>\n",
       "      <td>19.0</td>\n",
       "      <td>1000</td>\n",
       "      <td>4.4</td>\n",
       "      <td>https://m.media-amazon.com/images/I/61HyRFH--D...</td>\n",
       "    </tr>\n",
       "    <tr>\n",
       "      <th>5791</th>\n",
       "      <td>amazon_el_5791</td>\n",
       "      <td>https://www.amazon.com/-/ar/dp/B07ZHVVNGC/ref=...</td>\n",
       "      <td>كيت خلفية بورتريه بيضاء سادة مقاس 5 قدم 7 قدم ...</td>\n",
       "      <td>المقاس 5 7 قدم15 22 متر عرض 15 متر، ارتفاع 22...</td>\n",
       "      <td>إلكترونيات</td>\n",
       "      <td>كاميرات وصور</td>\n",
       "      <td></td>\n",
       "      <td>9.0</td>\n",
       "      <td>1000</td>\n",
       "      <td>4.4</td>\n",
       "      <td>https://m.media-amazon.com/images/I/51S2L7sQFx...</td>\n",
       "    </tr>\n",
       "  </tbody>\n",
       "</table>\n",
       "<p>5792 rows × 11 columns</p>\n",
       "</div>"
      ],
      "text/plain": [
       "                  id                                               link  \\\n",
       "0        amazon_el_0  https://www.amazon.com/-/ar/dp/B07PXGQC1Q/ref=...   \n",
       "1        amazon_el_1  https://www.amazon.com/-/ar/dp/B098FKXT8L/ref=...   \n",
       "2        amazon_el_2  https://www.amazon.com/-/ar/dp/B0BQPNMXQV/ref=...   \n",
       "3        amazon_el_3  https://www.amazon.com/-/ar/dp/B01N7ENHO6/ref=...   \n",
       "4        amazon_el_4  https://www.amazon.com/-/ar/dp/B083SH697H/ref=...   \n",
       "...              ...                                                ...   \n",
       "5787  amazon_el_5787  https://www.amazon.com/-/ar/dp/B0C2P5YPDF/ref=...   \n",
       "5788  amazon_el_5788  https://www.amazon.com/-/ar/dp/B0BGVWTXX8/ref=...   \n",
       "5789  amazon_el_5789  https://www.amazon.com/-/ar/dp/B0C9MC5D38/ref=...   \n",
       "5790  amazon_el_5790  https://www.amazon.com/-/ar/dp/B07922MDPG/ref=...   \n",
       "5791  amazon_el_5791  https://www.amazon.com/-/ar/dp/B07ZHVVNGC/ref=...   \n",
       "\n",
       "                                                   name  \\\n",
       "0     Apple AirPods 2nd Generation Wireless Ear Buds...   \n",
       "1     بوز سماعات بلوتوث لاسلكية كوايت كومفورت 45 بخا...   \n",
       "2     JBL سماعات رأس لاسلكية ترو من فايب بيم اسود، م...   \n",
       "3     سكاي لايت الإطار إطار صورة رقمي واي فاي مقاس 1...   \n",
       "4     اطار صور رقمي ذكي بشاشة لمس IPS LCD مقاس 101 ا...   \n",
       "...                                                 ...   \n",
       "5787  مجهر مركب مجهر 40X2000X مع مرحلة ميكانيكية مزد...   \n",
       "5788  Compound trinocular Microscope 40X5000X Magnif...   \n",
       "5789  العاب كاميرا رقمية بتصميم ديناصور للاطفال، احد...   \n",
       "5790  صندوق إضاءة السطح العلوي لطاولة التصوير الفوتو...   \n",
       "5791  كيت خلفية بورتريه بيضاء سادة مقاس 5 قدم 7 قدم ...   \n",
       "\n",
       "                                            description    category  \\\n",
       "0     يوفر الجيل الثاني من Apple H1 H1 Sephone Gener...  إلكترونيات   \n",
       "1      سماعات رأس لاسلكية بخاصية إلغاء الضوضاء التوا...  إلكترونيات   \n",
       "2      JBL صوت جهوري عميق احصل على أقصى استفادة من خ...  إلكترونيات   \n",
       "3      استخدام مبهج بدون مجهود لا يتطلب تطبيق أو اشت...  إلكترونيات   \n",
       "4      شارك الصور والفيديو بشكل خاص وآمن أرسل الصور ...  إلكترونيات   \n",
       "...                                                 ...         ...   \n",
       "5787   مجهر مركب يستخدم المجهر للبالغين على نطاق واس...  إلكترونيات   \n",
       "5788  تم تصميم المجهر البيولوجي المجهر المركب Trinoc...  إلكترونيات   \n",
       "5789   ترقية جديدة كاميرات أمامية وخلفية مزدوجة بدقة...  إلكترونيات   \n",
       "5790   1 صندوق استوديو صور محمول 14 بوصة 16 بوصة ، إ...  إلكترونيات   \n",
       "5791   المقاس 5 7 قدم15 22 متر عرض 15 متر، ارتفاع 22...  إلكترونيات   \n",
       "\n",
       "              subcategory     brand  price  number_of_sales  ratings  \\\n",
       "0     اكسسوارات ومستلزمات     Apple   36.0                0      4.7   \n",
       "1     اكسسوارات ومستلزمات      Bose  299.0                0      4.6   \n",
       "2     اكسسوارات ومستلزمات       JBL   49.0                0      4.4   \n",
       "3     اكسسوارات ومستلزمات  Skylight  129.0                0      4.7   \n",
       "4     اكسسوارات ومستلزمات   akimart   79.0                0      4.6   \n",
       "...                   ...       ...    ...              ...      ...   \n",
       "5787         كاميرات وصور            149.0              300      4.2   \n",
       "5788         كاميرات وصور            276.0              100      3.9   \n",
       "5789         كاميرات وصور             28.0              700      4.4   \n",
       "5790         كاميرات وصور     EMART   19.0             1000      4.4   \n",
       "5791         كاميرات وصور              9.0             1000      4.4   \n",
       "\n",
       "                                             image_link  \n",
       "0     https://m.media-amazon.com/images/I/417OJaY3DA...  \n",
       "1     https://m.media-amazon.com/images/I/51guNb9R-9...  \n",
       "2     https://m.media-amazon.com/images/I/41+1Csr1pS...  \n",
       "3     https://m.media-amazon.com/images/I/71VfNVFhpt...  \n",
       "4     https://m.media-amazon.com/images/I/71v8cZ36vw...  \n",
       "...                                                 ...  \n",
       "5787  https://m.media-amazon.com/images/I/71hV9tDJnM...  \n",
       "5788  https://m.media-amazon.com/images/I/71RcYoJCBr...  \n",
       "5789  https://m.media-amazon.com/images/I/61I7QRWcSn...  \n",
       "5790  https://m.media-amazon.com/images/I/61HyRFH--D...  \n",
       "5791  https://m.media-amazon.com/images/I/51S2L7sQFx...  \n",
       "\n",
       "[5792 rows x 11 columns]"
      ]
     },
     "execution_count": 156,
     "metadata": {},
     "output_type": "execute_result"
    }
   ],
   "source": [
    "df_Amazon_Electronique"
   ]
  },
  {
   "cell_type": "code",
   "execution_count": 78,
   "id": "664bed60",
   "metadata": {},
   "outputs": [
    {
     "data": {
      "text/html": [
       "<div>\n",
       "<style scoped>\n",
       "    .dataframe tbody tr th:only-of-type {\n",
       "        vertical-align: middle;\n",
       "    }\n",
       "\n",
       "    .dataframe tbody tr th {\n",
       "        vertical-align: top;\n",
       "    }\n",
       "\n",
       "    .dataframe thead th {\n",
       "        text-align: right;\n",
       "    }\n",
       "</style>\n",
       "<table border=\"1\" class=\"dataframe\">\n",
       "  <thead>\n",
       "    <tr style=\"text-align: right;\">\n",
       "      <th></th>\n",
       "      <th>id</th>\n",
       "      <th>link</th>\n",
       "      <th>name</th>\n",
       "      <th>description</th>\n",
       "      <th>category</th>\n",
       "      <th>subcategory</th>\n",
       "      <th>brand</th>\n",
       "      <th>price</th>\n",
       "      <th>number_of_sales</th>\n",
       "      <th>ratings</th>\n",
       "      <th>image_link</th>\n",
       "    </tr>\n",
       "  </thead>\n",
       "  <tbody>\n",
       "    <tr>\n",
       "      <th>0</th>\n",
       "      <td>amazon_sp_0</td>\n",
       "      <td>https://www.amazon.com/-/ar/dp/B0007ZF4OA/ref=...</td>\n",
       "      <td>مدفئات اليد من هوت هاندز مدفئات طبيعية امنة تد...</td>\n",
       "      <td>تدفئة آمنة وطبيعية وتدوم طويلاً بدون رائحة، ل...</td>\n",
       "      <td>الرياضة والأنشطة الخارجية</td>\n",
       "      <td>الرياضة والأنشطة الخارجية</td>\n",
       "      <td>40 Pair</td>\n",
       "      <td>27.0</td>\n",
       "      <td>60000</td>\n",
       "      <td>4.8</td>\n",
       "      <td>https://m.media-amazon.com/images/I/81+D8FkHLX...</td>\n",
       "    </tr>\n",
       "    <tr>\n",
       "      <th>1</th>\n",
       "      <td>amazon_sp_1</td>\n",
       "      <td>https://www.amazon.com/-/ar/dp/B00006IDL6/ref=...</td>\n",
       "      <td>ضمادات قماشية مرنة معقمة من العلامة التجارية ب...</td>\n",
       "      <td>نسيج يحتفظ بالشكل 100 قطعة من الضمادات اللاصق...</td>\n",
       "      <td>الرياضة والأنشطة الخارجية</td>\n",
       "      <td>الرياضة والأنشطة الخارجية</td>\n",
       "      <td>Band-Aid</td>\n",
       "      <td>8.0</td>\n",
       "      <td>50000</td>\n",
       "      <td>4.8</td>\n",
       "      <td>https://m.media-amazon.com/images/I/91nHT-VLyP...</td>\n",
       "    </tr>\n",
       "    <tr>\n",
       "      <th>2</th>\n",
       "      <td>amazon_sp_2</td>\n",
       "      <td>https://www.amazon.com/-/ar/dp/B07QGRWZNB/ref=...</td>\n",
       "      <td>GearLight 2Pack LED Headlamp Outdoor Camping H...</td>\n",
       "      <td>خبرة فائقة الخبرة الفائقة مصابيح التخييم في ال...</td>\n",
       "      <td>الرياضة والأنشطة الخارجية</td>\n",
       "      <td>الرياضة والأنشطة الخارجية</td>\n",
       "      <td></td>\n",
       "      <td>19.0</td>\n",
       "      <td>0</td>\n",
       "      <td>4.6</td>\n",
       "      <td>https://m.media-amazon.com/images/I/81lFLOANwY...</td>\n",
       "    </tr>\n",
       "    <tr>\n",
       "      <th>3</th>\n",
       "      <td>amazon_sp_3</td>\n",
       "      <td>https://www.amazon.com/-/ar/dp/B0CC62ZG1M/ref=...</td>\n",
       "      <td>فيتبيت جهاز تتبع اللياقة البدنية تشارج 6 مع تط...</td>\n",
       "      <td>تحرك أكثر معدل ضربات القلب على المعدات عبر ال...</td>\n",
       "      <td>الرياضة والأنشطة الخارجية</td>\n",
       "      <td>الرياضة والأنشطة الخارجية</td>\n",
       "      <td></td>\n",
       "      <td>159.0</td>\n",
       "      <td>0</td>\n",
       "      <td>3.7</td>\n",
       "      <td>https://m.media-amazon.com/images/I/61ZtqtvoD2...</td>\n",
       "    </tr>\n",
       "    <tr>\n",
       "      <th>4</th>\n",
       "      <td>amazon_sp_4</td>\n",
       "      <td>https://www.amazon.com/-/ar/dp/B00WTDXSDM/ref=...</td>\n",
       "      <td>فلاي بار عصا بوجو فوم للاطفال من ماي فيرست بتص...</td>\n",
       "      <td>بوينغ، بوينغ، سكويك عصا ماي فيرست فلايبار بوج...</td>\n",
       "      <td>الرياضة والأنشطة الخارجية</td>\n",
       "      <td>الرياضة والأنشطة الخارجية</td>\n",
       "      <td></td>\n",
       "      <td>12.0</td>\n",
       "      <td>20000</td>\n",
       "      <td>4.3</td>\n",
       "      <td>https://m.media-amazon.com/images/I/51wjux6nU2...</td>\n",
       "    </tr>\n",
       "    <tr>\n",
       "      <th>...</th>\n",
       "      <td>...</td>\n",
       "      <td>...</td>\n",
       "      <td>...</td>\n",
       "      <td>...</td>\n",
       "      <td>...</td>\n",
       "      <td>...</td>\n",
       "      <td>...</td>\n",
       "      <td>...</td>\n",
       "      <td>...</td>\n",
       "      <td>...</td>\n",
       "      <td>...</td>\n",
       "    </tr>\n",
       "    <tr>\n",
       "      <th>1604</th>\n",
       "      <td>amazon_sp_1604</td>\n",
       "      <td>https://www.amazon.com/-/ar/dp/B07P8N43R1/ref=...</td>\n",
       "      <td>TNNZEET 3 Pack Black Leggings for Women High W...</td>\n",
       "      <td>92 بوليستر، 8 سباندكس، ناعم كالبشرة الثانية Im...</td>\n",
       "      <td>الرياضة والأنشطة الخارجية</td>\n",
       "      <td>رياضة ولياقة بدنية</td>\n",
       "      <td></td>\n",
       "      <td>36.0</td>\n",
       "      <td>0</td>\n",
       "      <td>4.5</td>\n",
       "      <td>https://m.media-amazon.com/images/I/51F2032-yK...</td>\n",
       "    </tr>\n",
       "    <tr>\n",
       "      <th>1605</th>\n",
       "      <td>amazon_sp_1605</td>\n",
       "      <td>https://www.amazon.com/-/ar/dp/B0CH41XGBZ/ref=...</td>\n",
       "      <td>ريدجوبس جورب جبيرة ليلية لالتهاب اللفافة الاخم...</td>\n",
       "      <td>مقاس قابل للتخصيص يمكنك العثور بسهولة على الم...</td>\n",
       "      <td>الرياضة والأنشطة الخارجية</td>\n",
       "      <td>رياضة ولياقة بدنية</td>\n",
       "      <td>Rejopes</td>\n",
       "      <td>19.0</td>\n",
       "      <td>1000</td>\n",
       "      <td>4.3</td>\n",
       "      <td>https://m.media-amazon.com/images/I/71bKrDU-d+...</td>\n",
       "    </tr>\n",
       "    <tr>\n",
       "      <th>1606</th>\n",
       "      <td>amazon_sp_1606</td>\n",
       "      <td>https://www.amazon.com/-/ar/dp/B09YHXW9RJ/ref=...</td>\n",
       "      <td>مصابيح دراجة جديدة 2023 6 LED 9000 لومن فائقة ...</td>\n",
       "      <td>مصباح دراجة عالي الجودة T66 LED Bike Lights خا...</td>\n",
       "      <td>الرياضة والأنشطة الخارجية</td>\n",
       "      <td>رياضة ولياقة بدنية</td>\n",
       "      <td></td>\n",
       "      <td>39.0</td>\n",
       "      <td>2000</td>\n",
       "      <td>4.4</td>\n",
       "      <td>https://m.media-amazon.com/images/I/81CPdpB+IT...</td>\n",
       "    </tr>\n",
       "    <tr>\n",
       "      <th>1607</th>\n",
       "      <td>amazon_sp_1607</td>\n",
       "      <td>https://www.amazon.com/-/ar/dp/B0B62X1HFH/ref=...</td>\n",
       "      <td>كريددو دراجة ثلاثية العجلات 2 في 1 للاطفال من ...</td>\n",
       "      <td>دراجة ثلاثية العجلات 2 في 1 للأطفال تمنحهم هذه...</td>\n",
       "      <td>الرياضة والأنشطة الخارجية</td>\n",
       "      <td>رياضة ولياقة بدنية</td>\n",
       "      <td></td>\n",
       "      <td>69.0</td>\n",
       "      <td>1000</td>\n",
       "      <td>4.3</td>\n",
       "      <td>https://m.media-amazon.com/images/I/71wGxJU4v+...</td>\n",
       "    </tr>\n",
       "    <tr>\n",
       "      <th>1608</th>\n",
       "      <td>amazon_sp_1608</td>\n",
       "      <td>https://www.amazon.com/-/ar/dp/B08H45YY32/ref=...</td>\n",
       "      <td>كرايولا ضمادات للاطفال على شكل فيل ابيض رائعة ...</td>\n",
       "      <td>ضمادات لاصقة للأطفال 100 ضمادة للاستخدام على ...</td>\n",
       "      <td>الرياضة والأنشطة الخارجية</td>\n",
       "      <td>رياضة ولياقة بدنية</td>\n",
       "      <td>Crayola</td>\n",
       "      <td>13.0</td>\n",
       "      <td>1000</td>\n",
       "      <td>4.7</td>\n",
       "      <td>https://m.media-amazon.com/images/I/81ZpThbGTB...</td>\n",
       "    </tr>\n",
       "  </tbody>\n",
       "</table>\n",
       "<p>1609 rows × 11 columns</p>\n",
       "</div>"
      ],
      "text/plain": [
       "                  id                                               link  \\\n",
       "0        amazon_sp_0  https://www.amazon.com/-/ar/dp/B0007ZF4OA/ref=...   \n",
       "1        amazon_sp_1  https://www.amazon.com/-/ar/dp/B00006IDL6/ref=...   \n",
       "2        amazon_sp_2  https://www.amazon.com/-/ar/dp/B07QGRWZNB/ref=...   \n",
       "3        amazon_sp_3  https://www.amazon.com/-/ar/dp/B0CC62ZG1M/ref=...   \n",
       "4        amazon_sp_4  https://www.amazon.com/-/ar/dp/B00WTDXSDM/ref=...   \n",
       "...              ...                                                ...   \n",
       "1604  amazon_sp_1604  https://www.amazon.com/-/ar/dp/B07P8N43R1/ref=...   \n",
       "1605  amazon_sp_1605  https://www.amazon.com/-/ar/dp/B0CH41XGBZ/ref=...   \n",
       "1606  amazon_sp_1606  https://www.amazon.com/-/ar/dp/B09YHXW9RJ/ref=...   \n",
       "1607  amazon_sp_1607  https://www.amazon.com/-/ar/dp/B0B62X1HFH/ref=...   \n",
       "1608  amazon_sp_1608  https://www.amazon.com/-/ar/dp/B08H45YY32/ref=...   \n",
       "\n",
       "                                                   name  \\\n",
       "0     مدفئات اليد من هوت هاندز مدفئات طبيعية امنة تد...   \n",
       "1     ضمادات قماشية مرنة معقمة من العلامة التجارية ب...   \n",
       "2     GearLight 2Pack LED Headlamp Outdoor Camping H...   \n",
       "3     فيتبيت جهاز تتبع اللياقة البدنية تشارج 6 مع تط...   \n",
       "4     فلاي بار عصا بوجو فوم للاطفال من ماي فيرست بتص...   \n",
       "...                                                 ...   \n",
       "1604  TNNZEET 3 Pack Black Leggings for Women High W...   \n",
       "1605  ريدجوبس جورب جبيرة ليلية لالتهاب اللفافة الاخم...   \n",
       "1606  مصابيح دراجة جديدة 2023 6 LED 9000 لومن فائقة ...   \n",
       "1607  كريددو دراجة ثلاثية العجلات 2 في 1 للاطفال من ...   \n",
       "1608  كرايولا ضمادات للاطفال على شكل فيل ابيض رائعة ...   \n",
       "\n",
       "                                            description  \\\n",
       "0      تدفئة آمنة وطبيعية وتدوم طويلاً بدون رائحة، ل...   \n",
       "1      نسيج يحتفظ بالشكل 100 قطعة من الضمادات اللاصق...   \n",
       "2     خبرة فائقة الخبرة الفائقة مصابيح التخييم في ال...   \n",
       "3      تحرك أكثر معدل ضربات القلب على المعدات عبر ال...   \n",
       "4      بوينغ، بوينغ، سكويك عصا ماي فيرست فلايبار بوج...   \n",
       "...                                                 ...   \n",
       "1604  92 بوليستر، 8 سباندكس، ناعم كالبشرة الثانية Im...   \n",
       "1605   مقاس قابل للتخصيص يمكنك العثور بسهولة على الم...   \n",
       "1606  مصباح دراجة عالي الجودة T66 LED Bike Lights خا...   \n",
       "1607  دراجة ثلاثية العجلات 2 في 1 للأطفال تمنحهم هذه...   \n",
       "1608   ضمادات لاصقة للأطفال 100 ضمادة للاستخدام على ...   \n",
       "\n",
       "                       category                subcategory     brand  price  \\\n",
       "0     الرياضة والأنشطة الخارجية  الرياضة والأنشطة الخارجية   40 Pair   27.0   \n",
       "1     الرياضة والأنشطة الخارجية  الرياضة والأنشطة الخارجية  Band-Aid    8.0   \n",
       "2     الرياضة والأنشطة الخارجية  الرياضة والأنشطة الخارجية             19.0   \n",
       "3     الرياضة والأنشطة الخارجية  الرياضة والأنشطة الخارجية            159.0   \n",
       "4     الرياضة والأنشطة الخارجية  الرياضة والأنشطة الخارجية             12.0   \n",
       "...                         ...                        ...       ...    ...   \n",
       "1604  الرياضة والأنشطة الخارجية         رياضة ولياقة بدنية             36.0   \n",
       "1605  الرياضة والأنشطة الخارجية         رياضة ولياقة بدنية   Rejopes   19.0   \n",
       "1606  الرياضة والأنشطة الخارجية         رياضة ولياقة بدنية             39.0   \n",
       "1607  الرياضة والأنشطة الخارجية         رياضة ولياقة بدنية             69.0   \n",
       "1608  الرياضة والأنشطة الخارجية         رياضة ولياقة بدنية   Crayola   13.0   \n",
       "\n",
       "      number_of_sales  ratings  \\\n",
       "0               60000      4.8   \n",
       "1               50000      4.8   \n",
       "2                   0      4.6   \n",
       "3                   0      3.7   \n",
       "4               20000      4.3   \n",
       "...               ...      ...   \n",
       "1604                0      4.5   \n",
       "1605             1000      4.3   \n",
       "1606             2000      4.4   \n",
       "1607             1000      4.3   \n",
       "1608             1000      4.7   \n",
       "\n",
       "                                             image_link  \n",
       "0     https://m.media-amazon.com/images/I/81+D8FkHLX...  \n",
       "1     https://m.media-amazon.com/images/I/91nHT-VLyP...  \n",
       "2     https://m.media-amazon.com/images/I/81lFLOANwY...  \n",
       "3     https://m.media-amazon.com/images/I/61ZtqtvoD2...  \n",
       "4     https://m.media-amazon.com/images/I/51wjux6nU2...  \n",
       "...                                                 ...  \n",
       "1604  https://m.media-amazon.com/images/I/51F2032-yK...  \n",
       "1605  https://m.media-amazon.com/images/I/71bKrDU-d+...  \n",
       "1606  https://m.media-amazon.com/images/I/81CPdpB+IT...  \n",
       "1607  https://m.media-amazon.com/images/I/71wGxJU4v+...  \n",
       "1608  https://m.media-amazon.com/images/I/81ZpThbGTB...  \n",
       "\n",
       "[1609 rows x 11 columns]"
      ]
     },
     "execution_count": 78,
     "metadata": {},
     "output_type": "execute_result"
    }
   ],
   "source": [
    "df_Amazon_sport"
   ]
  },
  {
   "cell_type": "code",
   "execution_count": 152,
   "id": "aad079d8",
   "metadata": {},
   "outputs": [],
   "source": [
    "df_Amazon_Electronique.to_csv('df_Amazon_Electronique.csv', index=False, encoding='utf-8-sig')\n",
    "\n",
    "df_Amazon_sport.to_csv('df_Amazon_sport.csv', index=False, encoding='utf-8-sig')"
   ]
  },
  {
   "cell_type": "code",
   "execution_count": 154,
   "id": "057a870a",
   "metadata": {},
   "outputs": [],
   "source": [
    "# Enregistrer le DataFrame au format Excel (xlsx)\n",
    "df_Amazon_Electronique.to_excel('df_Amazon_Electronique_test.xlsx', index=False, encoding='utf-8-sig')\n",
    "\n",
    "df_Amazon_sport.to_excel('df_Amazon_sport_test.xlsx', index=False, encoding='utf-8-sig')\n"
   ]
  },
  {
   "cell_type": "code",
   "execution_count": 157,
   "id": "0d399468",
   "metadata": {},
   "outputs": [
    {
     "data": {
      "text/plain": [
       "''"
      ]
     },
     "execution_count": 157,
     "metadata": {},
     "output_type": "execute_result"
    }
   ],
   "source": [
    "df_Amazon_Electronique['brand'][35]"
   ]
  },
  {
   "cell_type": "code",
   "execution_count": null,
   "id": "4c349098",
   "metadata": {},
   "outputs": [],
   "source": [
    "df['Marque']=df['Marque'].apply(replace_Mark)"
   ]
  },
  {
   "cell_type": "code",
   "execution_count": null,
   "id": "ea73181c",
   "metadata": {},
   "outputs": [],
   "source": []
  },
  {
   "cell_type": "code",
   "execution_count": 89,
   "id": "3adf96da",
   "metadata": {},
   "outputs": [],
   "source": [
    "import langid\n",
    "\n"
   ]
  },
  {
   "cell_type": "code",
   "execution_count": 111,
   "id": "717771e9",
   "metadata": {},
   "outputs": [
    {
     "name": "stdout",
     "output_type": "stream",
     "text": [
      "12\n"
     ]
    }
   ],
   "source": [
    "def is_arabic_comment(comment):\n",
    "    # Detect the language of the comment\n",
    "    lang, _ = langid.classify(comment)\n",
    "\n",
    "    # Check if the detected language is Arabic\n",
    "    return lang == 'ar'\n",
    "\n",
    "tabl = []\n",
    "jj = 0\n",
    "for i,comment in enumerate(df_Amazon_Electronique[\"description\"]):\n",
    "    if is_arabic_comment(comment):\n",
    "        pass\n",
    "    else:\n",
    "        jj+=1\n",
    "        tabl.append(i)\n",
    "print(jj)"
   ]
  },
  {
   "cell_type": "code",
   "execution_count": 112,
   "id": "5aea5f98",
   "metadata": {},
   "outputs": [
    {
     "data": {
      "text/plain": [
       "[1639, 1927, 1929, 1930, 1931, 2039, 2365, 2617, 2660, 3481, 3567, 3654]"
      ]
     },
     "execution_count": 112,
     "metadata": {},
     "output_type": "execute_result"
    }
   ],
   "source": [
    "tabl"
   ]
  },
  {
   "cell_type": "code",
   "execution_count": 104,
   "id": "944148a6",
   "metadata": {},
   "outputs": [
    {
     "name": "stderr",
     "output_type": "stream",
     "text": [
      "C:\\Users\\lenovo\\AppData\\Local\\Temp\\ipykernel_14108\\365770146.py:1: SettingWithCopyWarning: \n",
      "A value is trying to be set on a copy of a slice from a DataFrame\n",
      "\n",
      "See the caveats in the documentation: https://pandas.pydata.org/pandas-docs/stable/user_guide/indexing.html#returning-a-view-versus-a-copy\n",
      "  df_Amazon_sport[\"description\"][569] = df_Amazon_sport[\"description\"][1527].replace('نايلون', '')\n"
     ]
    }
   ],
   "source": [
    "df_Amazon_Electronique[\"description\"][1639] = df_Amazon_sport[\"description\"][1527].replace('نايلون', '')\n",
    "# data_set['Description'] = data_set['Description'].str.replace('عن هذه السلعة', '')"
   ]
  },
  {
   "cell_type": "code",
   "execution_count": 151,
   "id": "d7b93504",
   "metadata": {},
   "outputs": [
    {
     "data": {
      "text/plain": [
       "'مايتي برايت 729578404606 40460'"
      ]
     },
     "execution_count": 151,
     "metadata": {},
     "output_type": "execute_result"
    }
   ],
   "source": [
    "df_Amazon_Electronique[\"description\"][3654] "
   ]
  },
  {
   "cell_type": "code",
   "execution_count": 148,
   "id": "f1c1433c",
   "metadata": {},
   "outputs": [],
   "source": [
    "test = 'Mighty Bright 729578404606 40460'"
   ]
  },
  {
   "cell_type": "code",
   "execution_count": 149,
   "id": "fe0439bc",
   "metadata": {},
   "outputs": [
    {
     "data": {
      "text/plain": [
       "'Mighty Bright 729578404606 40460'"
      ]
     },
     "execution_count": 149,
     "metadata": {},
     "output_type": "execute_result"
    }
   ],
   "source": [
    "traduire_en_arabe(test)"
   ]
  },
  {
   "cell_type": "code",
   "execution_count": null,
   "id": "ed13248a",
   "metadata": {},
   "outputs": [],
   "source": []
  },
  {
   "cell_type": "code",
   "execution_count": 117,
   "id": "09662551",
   "metadata": {},
   "outputs": [
    {
     "name": "stderr",
     "output_type": "stream",
     "text": [
      "C:\\Users\\lenovo\\AppData\\Local\\Temp\\ipykernel_14108\\3445493027.py:1: SettingWithCopyWarning: \n",
      "A value is trying to be set on a copy of a slice from a DataFrame\n",
      "\n",
      "See the caveats in the documentation: https://pandas.pydata.org/pandas-docs/stable/user_guide/indexing.html#returning-a-view-versus-a-copy\n",
      "  df_Amazon_Electronique[\"description\"][1930] = traduire_en_arabe(df_Amazon_Electronique[\"description\"][1930])\n"
     ]
    }
   ],
   "source": [
    "df_Amazon_Electronique[\"description\"][1930] = traduire_en_arabe(df_Amazon_Electronique[\"description\"][1930])"
   ]
  },
  {
   "cell_type": "code",
   "execution_count": 108,
   "id": "1c266086",
   "metadata": {},
   "outputs": [
    {
     "name": "stderr",
     "output_type": "stream",
     "text": [
      "C:\\Users\\lenovo\\AppData\\Local\\Temp\\ipykernel_14108\\896084852.py:1: SettingWithCopyWarning: \n",
      "A value is trying to be set on a copy of a slice from a DataFrame\n",
      "\n",
      "See the caveats in the documentation: https://pandas.pydata.org/pandas-docs/stable/user_guide/indexing.html#returning-a-view-versus-a-copy\n",
      "  df_Amazon_sport[\"description\"][1527] = traduire_en_arabe(df_Amazon_sport[\"description\"][1527])\n"
     ]
    }
   ],
   "source": [
    "df_Amazon_sport[\"description\"][1527] = traduire_en_arabe(df_Amazon_sport[\"description\"][1527])"
   ]
  },
  {
   "cell_type": "code",
   "execution_count": 74,
   "id": "f8b04756",
   "metadata": {},
   "outputs": [
    {
     "name": "stdout",
     "output_type": "stream",
     "text": [
      "<class 'pandas.core.frame.DataFrame'>\n",
      "RangeIndex: 1609 entries, 0 to 1608\n",
      "Data columns (total 11 columns):\n",
      " #   Column           Non-Null Count  Dtype  \n",
      "---  ------           --------------  -----  \n",
      " 0   id               1609 non-null   object \n",
      " 1   link             1609 non-null   object \n",
      " 2   name             1609 non-null   object \n",
      " 3   description      1609 non-null   object \n",
      " 4   category         1609 non-null   object \n",
      " 5   subcategory      1609 non-null   object \n",
      " 6   brand            1609 non-null   object \n",
      " 7   price            1609 non-null   float64\n",
      " 8   number_of_sales  1609 non-null   int64  \n",
      " 9   ratings          1609 non-null   float64\n",
      " 10  image_link       1609 non-null   object \n",
      "dtypes: float64(2), int64(1), object(8)\n",
      "memory usage: 138.4+ KB\n"
     ]
    }
   ],
   "source": [
    "df_Amazon_sport.info()"
   ]
  },
  {
   "cell_type": "code",
   "execution_count": 87,
   "id": "5e86cca6",
   "metadata": {},
   "outputs": [
    {
     "data": {
      "text/plain": [
       "2000     412\n",
       "3000     284\n",
       "0        250\n",
       "1000     163\n",
       "4000     150\n",
       "10000     89\n",
       "5000      74\n",
       "6000      64\n",
       "7000      41\n",
       "9000      29\n",
       "20000     22\n",
       "8000      21\n",
       "60000      2\n",
       "50000      2\n",
       "500        1\n",
       "3          1\n",
       "800        1\n",
       "4          1\n",
       "700        1\n",
       "900        1\n",
       "Name: number_of_sales, dtype: int64"
      ]
     },
     "execution_count": 87,
     "metadata": {},
     "output_type": "execute_result"
    }
   ],
   "source": [
    "df_Amazon_sport['number_of_sales'].value_counts()"
   ]
  },
  {
   "cell_type": "code",
   "execution_count": null,
   "id": "84af499d",
   "metadata": {},
   "outputs": [],
   "source": []
  },
  {
   "cell_type": "code",
   "execution_count": null,
   "id": "10d30f34",
   "metadata": {},
   "outputs": [],
   "source": []
  },
  {
   "cell_type": "code",
   "execution_count": null,
   "id": "0b22d355",
   "metadata": {},
   "outputs": [],
   "source": []
  },
  {
   "cell_type": "code",
   "execution_count": null,
   "id": "62ae87d3",
   "metadata": {},
   "outputs": [],
   "source": []
  },
  {
   "cell_type": "code",
   "execution_count": null,
   "id": "08ec6c25",
   "metadata": {},
   "outputs": [],
   "source": []
  },
  {
   "cell_type": "code",
   "execution_count": null,
   "id": "b6e2aee0",
   "metadata": {},
   "outputs": [],
   "source": []
  },
  {
   "cell_type": "code",
   "execution_count": null,
   "id": "f20ec4e1",
   "metadata": {},
   "outputs": [],
   "source": []
  },
  {
   "cell_type": "code",
   "execution_count": null,
   "id": "923a098c",
   "metadata": {},
   "outputs": [],
   "source": []
  },
  {
   "cell_type": "code",
   "execution_count": 85,
   "id": "0cdebc64",
   "metadata": {},
   "outputs": [],
   "source": [
    "def nettoyer_desc(desc):\n",
    "    # Vérifier si la desc est écrite en arabe\n",
    "    if bool(re.search('[\\u0600-\\u06FF\\u0750-\\u077F\\u08A0-\\u08FF]', desc)):\n",
    "        return desc\n",
    "    else:\n",
    "        return None  # Remplacez par la valeur que vous souhaitez utiliser pour les descriptions non arabes\n"
   ]
  },
  {
   "cell_type": "code",
   "execution_count": 106,
   "id": "be488bc8",
   "metadata": {},
   "outputs": [],
   "source": [
    "df = data_set"
   ]
  },
  {
   "cell_type": "code",
   "execution_count": 107,
   "id": "d963f3b0",
   "metadata": {
    "scrolled": true
   },
   "outputs": [
    {
     "data": {
      "text/html": [
       "<div>\n",
       "<style scoped>\n",
       "    .dataframe tbody tr th:only-of-type {\n",
       "        vertical-align: middle;\n",
       "    }\n",
       "\n",
       "    .dataframe tbody tr th {\n",
       "        vertical-align: top;\n",
       "    }\n",
       "\n",
       "    .dataframe thead th {\n",
       "        text-align: right;\n",
       "    }\n",
       "</style>\n",
       "<table border=\"1\" class=\"dataframe\">\n",
       "  <thead>\n",
       "    <tr style=\"text-align: right;\">\n",
       "      <th></th>\n",
       "      <th>Id</th>\n",
       "      <th>Lien de produit</th>\n",
       "      <th>Nom</th>\n",
       "      <th>Description</th>\n",
       "      <th>Catégorie</th>\n",
       "      <th>Sous-catégorie</th>\n",
       "      <th>Marque</th>\n",
       "      <th>Prix</th>\n",
       "      <th>Nombre de ventes</th>\n",
       "      <th>Evaluations</th>\n",
       "      <th>Lien de première image</th>\n",
       "    </tr>\n",
       "  </thead>\n",
       "  <tbody>\n",
       "    <tr>\n",
       "      <th>0</th>\n",
       "      <td>amazon_1</td>\n",
       "      <td>https://www.amazon.com/-/ar/dp/B07PXGQC1Q/ref=...</td>\n",
       "      <td>Apple AirPods (2nd Generation) Wireless Ear Bu...</td>\n",
       "      <td>None</td>\n",
       "      <td>إلكترونيات</td>\n",
       "      <td>اكسسوارات ومستلزمات</td>\n",
       "      <td>Apple</td>\n",
       "      <td>NaN</td>\n",
       "      <td>NaN</td>\n",
       "      <td>4.7</td>\n",
       "      <td>https://m.media-amazon.com/images/I/417OJaY3DA...</td>\n",
       "    </tr>\n",
       "    <tr>\n",
       "      <th>1</th>\n",
       "      <td>amazon_2</td>\n",
       "      <td>https://www.amazon.com/-/ar/dp/B098FKXT8L/ref=...</td>\n",
       "      <td>بوز سماعات بلوتوث لاسلكية كوايت كومفورت 45 بخا...</td>\n",
       "      <td>سماعات رأس لاسلكية بخاصية إلغاء الضوضاء التوا...</td>\n",
       "      <td>إلكترونيات</td>\n",
       "      <td>اكسسوارات ومستلزمات</td>\n",
       "      <td>Bose</td>\n",
       "      <td>299</td>\n",
       "      <td>NaN</td>\n",
       "      <td>4.6</td>\n",
       "      <td>https://m.media-amazon.com/images/I/51guNb9R-9...</td>\n",
       "    </tr>\n",
       "    <tr>\n",
       "      <th>2</th>\n",
       "      <td>amazon_3</td>\n",
       "      <td>https://www.amazon.com/-/ar/dp/B0BQPNMXQV/ref=...</td>\n",
       "      <td>JBL سماعات رأس لاسلكية ترو من فايب بيم - اسود،...</td>\n",
       "      <td>JBL صوت جهوري عميق احصل على أقصى استفادة من خ...</td>\n",
       "      <td>إلكترونيات</td>\n",
       "      <td>اكسسوارات ومستلزمات</td>\n",
       "      <td>JBL</td>\n",
       "      <td>49</td>\n",
       "      <td>NaN</td>\n",
       "      <td>4.4</td>\n",
       "      <td>https://m.media-amazon.com/images/I/41+1Csr1pS...</td>\n",
       "    </tr>\n",
       "    <tr>\n",
       "      <th>3</th>\n",
       "      <td>amazon_4</td>\n",
       "      <td>https://www.amazon.com/-/ar/dp/B01N7ENHO6/ref=...</td>\n",
       "      <td>سكاي لايت الإطار: إطار صورة رقمي واي فاي مقاس ...</td>\n",
       "      <td>استخدام مبهج بدون مجهود لا يتطلب تطبيق أو اشت...</td>\n",
       "      <td>إلكترونيات</td>\n",
       "      <td>اكسسوارات ومستلزمات</td>\n",
       "      <td>Skylight</td>\n",
       "      <td>129</td>\n",
       "      <td>NaN</td>\n",
       "      <td>4.7</td>\n",
       "      <td>https://m.media-amazon.com/images/I/71VfNVFhpt...</td>\n",
       "    </tr>\n",
       "    <tr>\n",
       "      <th>4</th>\n",
       "      <td>amazon_5</td>\n",
       "      <td>https://www.amazon.com/-/ar/dp/B083SH697H/ref=...</td>\n",
       "      <td>اطار صور رقمي ذكي بشاشة لمس IPS LCD مقاس 10.1 ...</td>\n",
       "      <td>شارك الصور والفيديو بشكل خاص وآمن أرسل الصور ...</td>\n",
       "      <td>إلكترونيات</td>\n",
       "      <td>اكسسوارات ومستلزمات</td>\n",
       "      <td>akimart</td>\n",
       "      <td>79</td>\n",
       "      <td>NaN</td>\n",
       "      <td>4.6</td>\n",
       "      <td>https://m.media-amazon.com/images/I/71v8cZ36vw...</td>\n",
       "    </tr>\n",
       "    <tr>\n",
       "      <th>...</th>\n",
       "      <td>...</td>\n",
       "      <td>...</td>\n",
       "      <td>...</td>\n",
       "      <td>...</td>\n",
       "      <td>...</td>\n",
       "      <td>...</td>\n",
       "      <td>...</td>\n",
       "      <td>...</td>\n",
       "      <td>...</td>\n",
       "      <td>...</td>\n",
       "      <td>...</td>\n",
       "    </tr>\n",
       "    <tr>\n",
       "      <th>8295</th>\n",
       "      <td>amazon_30783</td>\n",
       "      <td>https://www.amazon.com/-/ar/dp/B0C2P5YPDF/ref=...</td>\n",
       "      <td>مجهر مركب مجهر 40X-2000X مع مرحلة ميكانيكية مز...</td>\n",
       "      <td>مجهر مركب يستخدم المجهر للبالغين على نطاق واس...</td>\n",
       "      <td>إلكترونيات</td>\n",
       "      <td>كاميرات وصور</td>\n",
       "      <td>مجهر إلكتروني مجهر</td>\n",
       "      <td>149</td>\n",
       "      <td>تم شراء 300+ سلعة في الشهر الماضي</td>\n",
       "      <td>4.2</td>\n",
       "      <td>https://m.media-amazon.com/images/I/71hV9tDJnM...</td>\n",
       "    </tr>\n",
       "    <tr>\n",
       "      <th>8296</th>\n",
       "      <td>amazon_30784</td>\n",
       "      <td>https://www.amazon.com/-/ar/dp/B0BGVWTXX8/ref=...</td>\n",
       "      <td>Compound trinocular Microscope, 40X-5000X Magn...</td>\n",
       "      <td>None</td>\n",
       "      <td>إلكترونيات</td>\n",
       "      <td>كاميرات وصور</td>\n",
       "      <td>NaN</td>\n",
       "      <td>276</td>\n",
       "      <td>تم شراء 100+ سلعة في الشهر الماضي</td>\n",
       "      <td>3.9</td>\n",
       "      <td>https://m.media-amazon.com/images/I/71RcYoJCBr...</td>\n",
       "    </tr>\n",
       "    <tr>\n",
       "      <th>8297</th>\n",
       "      <td>amazon_30785</td>\n",
       "      <td>https://www.amazon.com/-/ar/dp/B0C9MC5D38/ref=...</td>\n",
       "      <td>العاب كاميرا رقمية بتصميم ديناصور للاطفال، [اح...</td>\n",
       "      <td>ترقية جديدة كاميرات أمامية وخلفية مزدوجة بدقة...</td>\n",
       "      <td>إلكترونيات</td>\n",
       "      <td>كاميرات وصور</td>\n",
       "      <td>NaN</td>\n",
       "      <td>28</td>\n",
       "      <td>تم شراء 700+ سلعة في الشهر الماضي</td>\n",
       "      <td>4.4</td>\n",
       "      <td>https://m.media-amazon.com/images/I/61I7QRWcSn...</td>\n",
       "    </tr>\n",
       "    <tr>\n",
       "      <th>8298</th>\n",
       "      <td>amazon_30786</td>\n",
       "      <td>https://www.amazon.com/-/ar/dp/B07922MDPG/ref=...</td>\n",
       "      <td>صندوق إضاءة السطح العلوي لطاولة التصوير الفوتو...</td>\n",
       "      <td>1 صندوق استوديو صور محمول 14 بوصة 16 بوصة ، إ...</td>\n",
       "      <td>إلكترونيات</td>\n",
       "      <td>كاميرات وصور</td>\n",
       "      <td>EMART</td>\n",
       "      <td>19</td>\n",
       "      <td>تم شراء 1 ألف+ سلعة في الشهر الماضي</td>\n",
       "      <td>4.4</td>\n",
       "      <td>https://m.media-amazon.com/images/I/61HyRFH--D...</td>\n",
       "    </tr>\n",
       "    <tr>\n",
       "      <th>8299</th>\n",
       "      <td>amazon_30787</td>\n",
       "      <td>https://www.amazon.com/-/ar/dp/B07ZHVVNGC/ref=...</td>\n",
       "      <td>كيت خلفية بورتريه بيضاء سادة مقاس 5 قدم × 7 قد...</td>\n",
       "      <td>المقاس 5 7 قدم15 22 متر عرض 15 متر، ارتفاع 22...</td>\n",
       "      <td>إلكترونيات</td>\n",
       "      <td>كاميرات وصور</td>\n",
       "      <td>ابيض</td>\n",
       "      <td>9</td>\n",
       "      <td>تم شراء 1 ألف+ سلعة في الشهر الماضي</td>\n",
       "      <td>4.4</td>\n",
       "      <td>https://m.media-amazon.com/images/I/51S2L7sQFx...</td>\n",
       "    </tr>\n",
       "  </tbody>\n",
       "</table>\n",
       "<p>8300 rows × 11 columns</p>\n",
       "</div>"
      ],
      "text/plain": [
       "                Id                                    Lien de produit  \\\n",
       "0         amazon_1  https://www.amazon.com/-/ar/dp/B07PXGQC1Q/ref=...   \n",
       "1         amazon_2  https://www.amazon.com/-/ar/dp/B098FKXT8L/ref=...   \n",
       "2         amazon_3  https://www.amazon.com/-/ar/dp/B0BQPNMXQV/ref=...   \n",
       "3         amazon_4  https://www.amazon.com/-/ar/dp/B01N7ENHO6/ref=...   \n",
       "4         amazon_5  https://www.amazon.com/-/ar/dp/B083SH697H/ref=...   \n",
       "...            ...                                                ...   \n",
       "8295  amazon_30783  https://www.amazon.com/-/ar/dp/B0C2P5YPDF/ref=...   \n",
       "8296  amazon_30784  https://www.amazon.com/-/ar/dp/B0BGVWTXX8/ref=...   \n",
       "8297  amazon_30785  https://www.amazon.com/-/ar/dp/B0C9MC5D38/ref=...   \n",
       "8298  amazon_30786  https://www.amazon.com/-/ar/dp/B07922MDPG/ref=...   \n",
       "8299  amazon_30787  https://www.amazon.com/-/ar/dp/B07ZHVVNGC/ref=...   \n",
       "\n",
       "                                                    Nom  \\\n",
       "0     Apple AirPods (2nd Generation) Wireless Ear Bu...   \n",
       "1     بوز سماعات بلوتوث لاسلكية كوايت كومفورت 45 بخا...   \n",
       "2     JBL سماعات رأس لاسلكية ترو من فايب بيم - اسود،...   \n",
       "3     سكاي لايت الإطار: إطار صورة رقمي واي فاي مقاس ...   \n",
       "4     اطار صور رقمي ذكي بشاشة لمس IPS LCD مقاس 10.1 ...   \n",
       "...                                                 ...   \n",
       "8295  مجهر مركب مجهر 40X-2000X مع مرحلة ميكانيكية مز...   \n",
       "8296  Compound trinocular Microscope, 40X-5000X Magn...   \n",
       "8297  العاب كاميرا رقمية بتصميم ديناصور للاطفال، [اح...   \n",
       "8298  صندوق إضاءة السطح العلوي لطاولة التصوير الفوتو...   \n",
       "8299  كيت خلفية بورتريه بيضاء سادة مقاس 5 قدم × 7 قد...   \n",
       "\n",
       "                                            Description   Catégorie  \\\n",
       "0                                                  None  إلكترونيات   \n",
       "1      سماعات رأس لاسلكية بخاصية إلغاء الضوضاء التوا...  إلكترونيات   \n",
       "2      JBL صوت جهوري عميق احصل على أقصى استفادة من خ...  إلكترونيات   \n",
       "3      استخدام مبهج بدون مجهود لا يتطلب تطبيق أو اشت...  إلكترونيات   \n",
       "4      شارك الصور والفيديو بشكل خاص وآمن أرسل الصور ...  إلكترونيات   \n",
       "...                                                 ...         ...   \n",
       "8295   مجهر مركب يستخدم المجهر للبالغين على نطاق واس...  إلكترونيات   \n",
       "8296                                               None  إلكترونيات   \n",
       "8297   ترقية جديدة كاميرات أمامية وخلفية مزدوجة بدقة...  إلكترونيات   \n",
       "8298   1 صندوق استوديو صور محمول 14 بوصة 16 بوصة ، إ...  إلكترونيات   \n",
       "8299   المقاس 5 7 قدم15 22 متر عرض 15 متر، ارتفاع 22...  إلكترونيات   \n",
       "\n",
       "           Sous-catégorie              Marque Prix  \\\n",
       "0     اكسسوارات ومستلزمات               Apple  NaN   \n",
       "1     اكسسوارات ومستلزمات                Bose  299   \n",
       "2     اكسسوارات ومستلزمات                 JBL   49   \n",
       "3     اكسسوارات ومستلزمات            Skylight  129   \n",
       "4     اكسسوارات ومستلزمات             akimart   79   \n",
       "...                   ...                 ...  ...   \n",
       "8295         كاميرات وصور  مجهر إلكتروني مجهر  149   \n",
       "8296         كاميرات وصور                 NaN  276   \n",
       "8297         كاميرات وصور                 NaN   28   \n",
       "8298         كاميرات وصور               EMART   19   \n",
       "8299         كاميرات وصور                ابيض    9   \n",
       "\n",
       "                         Nombre de ventes  Evaluations  \\\n",
       "0                                     NaN          4.7   \n",
       "1                                     NaN          4.6   \n",
       "2                                     NaN          4.4   \n",
       "3                                     NaN          4.7   \n",
       "4                                     NaN          4.6   \n",
       "...                                   ...          ...   \n",
       "8295    تم شراء 300+ سلعة في الشهر الماضي          4.2   \n",
       "8296    تم شراء 100+ سلعة في الشهر الماضي          3.9   \n",
       "8297    تم شراء 700+ سلعة في الشهر الماضي          4.4   \n",
       "8298  تم شراء 1 ألف+ سلعة في الشهر الماضي          4.4   \n",
       "8299  تم شراء 1 ألف+ سلعة في الشهر الماضي          4.4   \n",
       "\n",
       "                                 Lien de première image  \n",
       "0     https://m.media-amazon.com/images/I/417OJaY3DA...  \n",
       "1     https://m.media-amazon.com/images/I/51guNb9R-9...  \n",
       "2     https://m.media-amazon.com/images/I/41+1Csr1pS...  \n",
       "3     https://m.media-amazon.com/images/I/71VfNVFhpt...  \n",
       "4     https://m.media-amazon.com/images/I/71v8cZ36vw...  \n",
       "...                                                 ...  \n",
       "8295  https://m.media-amazon.com/images/I/71hV9tDJnM...  \n",
       "8296  https://m.media-amazon.com/images/I/71RcYoJCBr...  \n",
       "8297  https://m.media-amazon.com/images/I/61I7QRWcSn...  \n",
       "8298  https://m.media-amazon.com/images/I/61HyRFH--D...  \n",
       "8299  https://m.media-amazon.com/images/I/51S2L7sQFx...  \n",
       "\n",
       "[8300 rows x 11 columns]"
      ]
     },
     "execution_count": 107,
     "metadata": {},
     "output_type": "execute_result"
    }
   ],
   "source": [
    "df"
   ]
  },
  {
   "cell_type": "code",
   "execution_count": 111,
   "id": "6bff7145",
   "metadata": {},
   "outputs": [],
   "source": [
    "\n",
    "\n",
    "# Appliquer la fonction nettoyer_description à la colonne 'Description'\n",
    "df['Description'] = df['Description'].apply(nettoyer_description)\n",
    "\n",
    "# Supprimer la phrase 'عن هذه السلعة'\n",
    "df['Description'] = df['Description'].str.replace('عن هذه السلعة', '')\n",
    "\n",
    "# Appliquer la fonction nettoyer_desc à la colonne 'Description'\n",
    "df['Description'] = df['Description'].apply(nettoyer_desc)\n",
    "\n",
    "\n",
    "df_descrip = df['Description']\n",
    "\n",
    "\n",
    "\n",
    "df_descrip.to_csv('df_descrip.csv', index=False, encoding='utf-8-sig')\n",
    "\n",
    "# # Supprimer les lignes où la description est None\n",
    "# df = df.dropna(subset=['Description'])\n",
    "\n",
    "# # Enregistrer le DataFrame nettoyé dans un fichier CSV\n",
    "# df.to_csv('df_descrip.csv', index=False, encoding='utf-8-sig')\n"
   ]
  },
  {
   "cell_type": "code",
   "execution_count": 116,
   "id": "7e78ac9e",
   "metadata": {},
   "outputs": [
    {
     "data": {
      "text/plain": [
       "Id                           0\n",
       "Lien de produit              0\n",
       "Nom                          9\n",
       "Description               1942\n",
       "Catégorie                    0\n",
       "Sous-catégorie               0\n",
       "Marque                    3730\n",
       "Prix                      1037\n",
       "Nombre de ventes          2238\n",
       "Evaluations                 98\n",
       "Lien de première image      20\n",
       "dtype: int64"
      ]
     },
     "execution_count": 116,
     "metadata": {},
     "output_type": "execute_result"
    }
   ],
   "source": [
    "nan_counts_df_1_banggood = df.isna().sum()\n",
    "nan_counts_df_1_banggood"
   ]
  },
  {
   "cell_type": "code",
   "execution_count": 113,
   "id": "f85e2ac2",
   "metadata": {},
   "outputs": [
    {
     "data": {
      "text/plain": [
       "0                                                    None\n",
       "1        سماعات رأس لاسلكية بخاصية إلغاء الضوضاء التوا...\n",
       "2        JBL صوت جهوري عميق احصل على أقصى استفادة من خ...\n",
       "3        استخدام مبهج بدون مجهود لا يتطلب تطبيق أو اشت...\n",
       "4        شارك الصور والفيديو بشكل خاص وآمن أرسل الصور ...\n",
       "                              ...                        \n",
       "8295     مجهر مركب يستخدم المجهر للبالغين على نطاق واس...\n",
       "8296                                                 None\n",
       "8297     ترقية جديدة كاميرات أمامية وخلفية مزدوجة بدقة...\n",
       "8298     1 صندوق استوديو صور محمول 14 بوصة 16 بوصة ، إ...\n",
       "8299     المقاس 5 7 قدم15 22 متر عرض 15 متر، ارتفاع 22...\n",
       "Name: Description, Length: 8300, dtype: object"
      ]
     },
     "execution_count": 113,
     "metadata": {},
     "output_type": "execute_result"
    }
   ],
   "source": [
    "df_descrip"
   ]
  },
  {
   "cell_type": "code",
   "execution_count": 40,
   "id": "685211a9",
   "metadata": {
    "scrolled": true
   },
   "outputs": [],
   "source": [
    "# df['Description'] = df['Description'].str.replace('عن هذه السلعة', '')\n",
    "# df = df['Description'].apply(nettoyer_description)\n",
    "# df = df.str.replace('عن هذه السلعة', '')\n",
    "# df['Description'] = df['Description'].apply(nettoyer_desc)"
   ]
  },
  {
   "cell_type": "code",
   "execution_count": 70,
   "id": "55e68842",
   "metadata": {},
   "outputs": [
    {
     "data": {
      "text/plain": [
       "0       False\n",
       "1        True\n",
       "2        True\n",
       "3        True\n",
       "4        True\n",
       "        ...  \n",
       "8295     True\n",
       "8296    False\n",
       "8297     True\n",
       "8298     True\n",
       "8299     True\n",
       "Name: Description, Length: 8300, dtype: bool"
      ]
     },
     "execution_count": 70,
     "metadata": {},
     "output_type": "execute_result"
    }
   ],
   "source": [
    "df_descrip"
   ]
  },
  {
   "cell_type": "code",
   "execution_count": 71,
   "id": "a8b06486",
   "metadata": {},
   "outputs": [
    {
     "data": {
      "text/plain": [
       "True     5764\n",
       "False    2536\n",
       "Name: Description, dtype: int64"
      ]
     },
     "execution_count": 71,
     "metadata": {},
     "output_type": "execute_result"
    }
   ],
   "source": [
    "df_descrip.value_counts()"
   ]
  },
  {
   "cell_type": "code",
   "execution_count": 76,
   "id": "4b8a2c31",
   "metadata": {},
   "outputs": [
    {
     "data": {
      "text/plain": [
       "'عن هذه السلعة\\nتوافق واسع: متوافق مع الهواتف الذكية وأجهزة التابلت والكاميرات وكاميرات جو برو/اكشن وأجهزة اللاب توب وأجهزة الكمبيوتر المكتبية وكاميرات DSLR والطائرات بدون طيار ونينتندو سويتش/وحدات التحكم المحمولة الأخرى وأكثر من ذلك بكثير. يتضمن محول اس دي. ملاحظة: يرجى الرجوع إلى قائمة الأجهزة المتوافقة (استمر في التحديث) في أدلة المنتج أدناه لمزيد من التفاصيل.\\nتخزين عالي الجودة: مثالي للصور عالية الدقة، لتسجيل وتخزين مقاطع فيديو FHD / 4K وأي نوع آخر من البيانات\\nسرعة فائقة: سرعة قراءة تصل إلى 100 ميجابايت/ثانية. سرعة كتابة تصل إلى 60 ميجابايت/ثانية (تختلف وفقًا لحجم الذاكرة). فئات السرعة UHS وU3 والفئة 10 وايه 2 لتجربة مثالية للهاتف الذكي\\nموثوقية تدوم طويلاً: مقاوم للصدمات ومقاوم للماء بدرجة IPX6 ومقاوم للحرارة (-10 درجة إلى 80 درجة)، مقاوم للأشعة السينية ومقاوم للمغناطيس\\nملاحظة: قد تكون سعة التخزين الفعلية الموضحة بواسطة نظام التشغيل الخاص بالجهاز أقل من السعة الموضحة على ملصق المنتج بسبب معايير القياس المختلفة. سعة التخزين المتاحة أعلى من 116 جيجابايت.\\nتعتمد سرعات القراءة والكتابة على الاختبارات الداخلية التي أجريت في ظل ظروف خاضعة للرقابة. قد تختلف السرعات الفعلية حسب الجهاز المستخدم والواجهة وظروف الاستخدام وعوامل أخرى\\nملاحظة: يرجى ملاحظة أننا نقوم بتغيير طباعة المنتج وتغليفه؛ كلا الإصدارين متشابهان. (لا يظهر الإصدار القديم شعار ايه 2، ولكن أداءه هو مستوى ايه 2.)\\nملاحظة: تحقق مما إذا كان جهازك متوافقًا مع سعة MicroSD، على سبيل المثال، إذا كان الجهاز يدعم سعة قصوى تبلغ 64 جيجابايت فقط، فقد لا يتعرف على ذاكرة مايكرو اس دي 128 جيجابايت أعلاه'"
      ]
     },
     "execution_count": 76,
     "metadata": {},
     "output_type": "execute_result"
    }
   ],
   "source": [
    "data_set['Description'][63]"
   ]
  },
  {
   "cell_type": "code",
   "execution_count": null,
   "id": "1bb17e3c",
   "metadata": {},
   "outputs": [],
   "source": []
  },
  {
   "cell_type": "code",
   "execution_count": null,
   "id": "8fc915d9",
   "metadata": {},
   "outputs": [],
   "source": []
  },
  {
   "cell_type": "code",
   "execution_count": null,
   "id": "f58ebeea",
   "metadata": {},
   "outputs": [],
   "source": []
  },
  {
   "cell_type": "code",
   "execution_count": null,
   "id": "86b2ef4e",
   "metadata": {},
   "outputs": [],
   "source": []
  },
  {
   "cell_type": "code",
   "execution_count": null,
   "id": "892e60ff",
   "metadata": {},
   "outputs": [],
   "source": []
  },
  {
   "cell_type": "code",
   "execution_count": null,
   "id": "3efde54f",
   "metadata": {},
   "outputs": [],
   "source": []
  },
  {
   "cell_type": "markdown",
   "id": "ed151958",
   "metadata": {},
   "source": [
    "# Traduction des Descriptions Non Arabes : Si vous rencontrez des descriptions de produits en langue étrangère, veuillez procéder à leur traduction en arabe."
   ]
  },
  {
   "cell_type": "code",
   "execution_count": 27,
   "id": "7395f095",
   "metadata": {},
   "outputs": [],
   "source": [
    "import pandas as pd\n",
    "from googletrans import Translator\n",
    "\n",
    "# Fonction pour traduire une description vers l'arabe\n",
    "def traduire_en_arabe(description):\n",
    "    translator = Translator()\n",
    "    try:\n",
    "        # Utilisez l'API Google Translate pour traduire la description en arabe\n",
    "        translation = translator.translate(description, dest='ar')\n",
    "        return translation.text\n",
    "    except Exception as e:\n",
    "        print(f\"Erreur lors de la traduction : {e}\")\n",
    "        return description"
   ]
  },
  {
   "cell_type": "code",
   "execution_count": 59,
   "id": "6fa0da10",
   "metadata": {},
   "outputs": [],
   "source": [
    "data_set_cleaned['Description'] = data_set_cleaned['Description'].str.replace('عن هذه السلعة', '')\n",
    "data_set_cleaned['Description'] = data_set_cleaned['Description'].str.replace('شاهد المزيد من تفاصيل المنتج', '')\n",
    "data_set_cleaned['Description'] = data_set_cleaned['Description'].str.replace('إظهار المزيد', '')"
   ]
  },
  {
   "cell_type": "code",
   "execution_count": 60,
   "id": "c71ddd54",
   "metadata": {},
   "outputs": [
    {
     "name": "stdout",
     "output_type": "stream",
     "text": [
      "Erreur lors de la traduction : The read operation timed out\n"
     ]
    }
   ],
   "source": [
    "# Appliquer la traduction aux descriptions qui ne sont pas en arabe \n",
    "data_set_cleaned['Description'] = data_set_cleaned['Description'].apply(lambda x: traduire_en_arabe(x) if not bool(re.search('[\\u0600-\\u06FF\\u0750-\\u077F\\u08A0-\\u08FF]', x)) else x)"
   ]
  },
  {
   "cell_type": "code",
   "execution_count": 61,
   "id": "56be2cf0",
   "metadata": {},
   "outputs": [
    {
     "data": {
      "text/html": [
       "<div>\n",
       "<style scoped>\n",
       "    .dataframe tbody tr th:only-of-type {\n",
       "        vertical-align: middle;\n",
       "    }\n",
       "\n",
       "    .dataframe tbody tr th {\n",
       "        vertical-align: top;\n",
       "    }\n",
       "\n",
       "    .dataframe thead th {\n",
       "        text-align: right;\n",
       "    }\n",
       "</style>\n",
       "<table border=\"1\" class=\"dataframe\">\n",
       "  <thead>\n",
       "    <tr style=\"text-align: right;\">\n",
       "      <th></th>\n",
       "      <th>Id</th>\n",
       "      <th>Lien de produit</th>\n",
       "      <th>Nom</th>\n",
       "      <th>Description</th>\n",
       "      <th>Catégorie</th>\n",
       "      <th>Sous-catégorie</th>\n",
       "      <th>Marque</th>\n",
       "      <th>Prix</th>\n",
       "      <th>Nombre de ventes</th>\n",
       "      <th>Evaluations</th>\n",
       "      <th>Lien de première image</th>\n",
       "    </tr>\n",
       "  </thead>\n",
       "  <tbody>\n",
       "    <tr>\n",
       "      <th>0</th>\n",
       "      <td>amazon_1</td>\n",
       "      <td>https://www.amazon.com/-/ar/dp/B07PXGQC1Q/ref=...</td>\n",
       "      <td>Apple AirPods 2nd Generation Wireless Ear Buds...</td>\n",
       "      <td>يوفر الجيل الثاني من Apple H1 H1 Sephone Gener...</td>\n",
       "      <td>إلكترونيات</td>\n",
       "      <td>اكسسوارات ومستلزمات</td>\n",
       "      <td>Apple</td>\n",
       "      <td>42.0</td>\n",
       "      <td>0</td>\n",
       "      <td>4.7</td>\n",
       "      <td>https://m.media-amazon.com/images/I/417OJaY3DA...</td>\n",
       "    </tr>\n",
       "    <tr>\n",
       "      <th>1</th>\n",
       "      <td>amazon_2</td>\n",
       "      <td>https://www.amazon.com/-/ar/dp/B098FKXT8L/ref=...</td>\n",
       "      <td>بوز سماعات بلوتوث لاسلكية كوايت كومفورت 45 بخا...</td>\n",
       "      <td>سماعات رأس لاسلكية بخاصية إلغاء الضوضاء التوا...</td>\n",
       "      <td>إلكترونيات</td>\n",
       "      <td>اكسسوارات ومستلزمات</td>\n",
       "      <td>Bose</td>\n",
       "      <td>299.0</td>\n",
       "      <td>0</td>\n",
       "      <td>4.6</td>\n",
       "      <td>https://m.media-amazon.com/images/I/51guNb9R-9...</td>\n",
       "    </tr>\n",
       "    <tr>\n",
       "      <th>2</th>\n",
       "      <td>amazon_3</td>\n",
       "      <td>https://www.amazon.com/-/ar/dp/B0BQPNMXQV/ref=...</td>\n",
       "      <td>JBL سماعات رأس لاسلكية ترو من فايب بيم اسود، م...</td>\n",
       "      <td>JBL صوت جهوري عميق احصل على أقصى استفادة من خ...</td>\n",
       "      <td>إلكترونيات</td>\n",
       "      <td>اكسسوارات ومستلزمات</td>\n",
       "      <td>JBL</td>\n",
       "      <td>49.0</td>\n",
       "      <td>0</td>\n",
       "      <td>4.4</td>\n",
       "      <td>https://m.media-amazon.com/images/I/41+1Csr1pS...</td>\n",
       "    </tr>\n",
       "    <tr>\n",
       "      <th>3</th>\n",
       "      <td>amazon_4</td>\n",
       "      <td>https://www.amazon.com/-/ar/dp/B01N7ENHO6/ref=...</td>\n",
       "      <td>سكاي لايت الإطار إطار صورة رقمي واي فاي مقاس 1...</td>\n",
       "      <td>استخدام مبهج بدون مجهود لا يتطلب تطبيق أو اشت...</td>\n",
       "      <td>إلكترونيات</td>\n",
       "      <td>اكسسوارات ومستلزمات</td>\n",
       "      <td>Skylight</td>\n",
       "      <td>129.0</td>\n",
       "      <td>0</td>\n",
       "      <td>4.7</td>\n",
       "      <td>https://m.media-amazon.com/images/I/71VfNVFhpt...</td>\n",
       "    </tr>\n",
       "    <tr>\n",
       "      <th>4</th>\n",
       "      <td>amazon_5</td>\n",
       "      <td>https://www.amazon.com/-/ar/dp/B083SH697H/ref=...</td>\n",
       "      <td>اطار صور رقمي ذكي بشاشة لمس IPS LCD مقاس 101 ا...</td>\n",
       "      <td>شارك الصور والفيديو بشكل خاص وآمن أرسل الصور ...</td>\n",
       "      <td>إلكترونيات</td>\n",
       "      <td>اكسسوارات ومستلزمات</td>\n",
       "      <td>akimart</td>\n",
       "      <td>79.0</td>\n",
       "      <td>0</td>\n",
       "      <td>4.6</td>\n",
       "      <td>https://m.media-amazon.com/images/I/71v8cZ36vw...</td>\n",
       "    </tr>\n",
       "    <tr>\n",
       "      <th>...</th>\n",
       "      <td>...</td>\n",
       "      <td>...</td>\n",
       "      <td>...</td>\n",
       "      <td>...</td>\n",
       "      <td>...</td>\n",
       "      <td>...</td>\n",
       "      <td>...</td>\n",
       "      <td>...</td>\n",
       "      <td>...</td>\n",
       "      <td>...</td>\n",
       "      <td>...</td>\n",
       "    </tr>\n",
       "    <tr>\n",
       "      <th>8295</th>\n",
       "      <td>amazon_30783</td>\n",
       "      <td>https://www.amazon.com/-/ar/dp/B0C2P5YPDF/ref=...</td>\n",
       "      <td>مجهر مركب مجهر 40X2000X مع مرحلة ميكانيكية مزد...</td>\n",
       "      <td>مجهر مركب يستخدم المجهر للبالغين على نطاق واس...</td>\n",
       "      <td>إلكترونيات</td>\n",
       "      <td>كاميرات وصور</td>\n",
       "      <td></td>\n",
       "      <td>149.0</td>\n",
       "      <td>300</td>\n",
       "      <td>4.2</td>\n",
       "      <td>https://m.media-amazon.com/images/I/71hV9tDJnM...</td>\n",
       "    </tr>\n",
       "    <tr>\n",
       "      <th>8296</th>\n",
       "      <td>amazon_30784</td>\n",
       "      <td>https://www.amazon.com/-/ar/dp/B0BGVWTXX8/ref=...</td>\n",
       "      <td>Compound trinocular Microscope 40X5000X Magnif...</td>\n",
       "      <td>تم تصميم المجهر البيولوجي المجهر المركب Trinoc...</td>\n",
       "      <td>إلكترونيات</td>\n",
       "      <td>كاميرات وصور</td>\n",
       "      <td></td>\n",
       "      <td>276.0</td>\n",
       "      <td>100</td>\n",
       "      <td>3.9</td>\n",
       "      <td>https://m.media-amazon.com/images/I/71RcYoJCBr...</td>\n",
       "    </tr>\n",
       "    <tr>\n",
       "      <th>8297</th>\n",
       "      <td>amazon_30785</td>\n",
       "      <td>https://www.amazon.com/-/ar/dp/B0C9MC5D38/ref=...</td>\n",
       "      <td>العاب كاميرا رقمية بتصميم ديناصور للاطفال، احد...</td>\n",
       "      <td>ترقية جديدة كاميرات أمامية وخلفية مزدوجة بدقة...</td>\n",
       "      <td>إلكترونيات</td>\n",
       "      <td>كاميرات وصور</td>\n",
       "      <td></td>\n",
       "      <td>28.0</td>\n",
       "      <td>700</td>\n",
       "      <td>4.4</td>\n",
       "      <td>https://m.media-amazon.com/images/I/61I7QRWcSn...</td>\n",
       "    </tr>\n",
       "    <tr>\n",
       "      <th>8298</th>\n",
       "      <td>amazon_30786</td>\n",
       "      <td>https://www.amazon.com/-/ar/dp/B07922MDPG/ref=...</td>\n",
       "      <td>صندوق إضاءة السطح العلوي لطاولة التصوير الفوتو...</td>\n",
       "      <td>1 صندوق استوديو صور محمول 14 بوصة 16 بوصة ، إ...</td>\n",
       "      <td>إلكترونيات</td>\n",
       "      <td>كاميرات وصور</td>\n",
       "      <td>EMART</td>\n",
       "      <td>19.0</td>\n",
       "      <td>1000</td>\n",
       "      <td>4.4</td>\n",
       "      <td>https://m.media-amazon.com/images/I/61HyRFH--D...</td>\n",
       "    </tr>\n",
       "    <tr>\n",
       "      <th>8299</th>\n",
       "      <td>amazon_30787</td>\n",
       "      <td>https://www.amazon.com/-/ar/dp/B07ZHVVNGC/ref=...</td>\n",
       "      <td>كيت خلفية بورتريه بيضاء سادة مقاس 5 قدم 7 قدم ...</td>\n",
       "      <td>المقاس 5 7 قدم15 22 متر عرض 15 متر، ارتفاع 22...</td>\n",
       "      <td>إلكترونيات</td>\n",
       "      <td>كاميرات وصور</td>\n",
       "      <td></td>\n",
       "      <td>9.0</td>\n",
       "      <td>1000</td>\n",
       "      <td>4.4</td>\n",
       "      <td>https://m.media-amazon.com/images/I/51S2L7sQFx...</td>\n",
       "    </tr>\n",
       "  </tbody>\n",
       "</table>\n",
       "<p>8300 rows × 11 columns</p>\n",
       "</div>"
      ],
      "text/plain": [
       "                Id                                    Lien de produit  \\\n",
       "0         amazon_1  https://www.amazon.com/-/ar/dp/B07PXGQC1Q/ref=...   \n",
       "1         amazon_2  https://www.amazon.com/-/ar/dp/B098FKXT8L/ref=...   \n",
       "2         amazon_3  https://www.amazon.com/-/ar/dp/B0BQPNMXQV/ref=...   \n",
       "3         amazon_4  https://www.amazon.com/-/ar/dp/B01N7ENHO6/ref=...   \n",
       "4         amazon_5  https://www.amazon.com/-/ar/dp/B083SH697H/ref=...   \n",
       "...            ...                                                ...   \n",
       "8295  amazon_30783  https://www.amazon.com/-/ar/dp/B0C2P5YPDF/ref=...   \n",
       "8296  amazon_30784  https://www.amazon.com/-/ar/dp/B0BGVWTXX8/ref=...   \n",
       "8297  amazon_30785  https://www.amazon.com/-/ar/dp/B0C9MC5D38/ref=...   \n",
       "8298  amazon_30786  https://www.amazon.com/-/ar/dp/B07922MDPG/ref=...   \n",
       "8299  amazon_30787  https://www.amazon.com/-/ar/dp/B07ZHVVNGC/ref=...   \n",
       "\n",
       "                                                    Nom  \\\n",
       "0     Apple AirPods 2nd Generation Wireless Ear Buds...   \n",
       "1     بوز سماعات بلوتوث لاسلكية كوايت كومفورت 45 بخا...   \n",
       "2     JBL سماعات رأس لاسلكية ترو من فايب بيم اسود، م...   \n",
       "3     سكاي لايت الإطار إطار صورة رقمي واي فاي مقاس 1...   \n",
       "4     اطار صور رقمي ذكي بشاشة لمس IPS LCD مقاس 101 ا...   \n",
       "...                                                 ...   \n",
       "8295  مجهر مركب مجهر 40X2000X مع مرحلة ميكانيكية مزد...   \n",
       "8296  Compound trinocular Microscope 40X5000X Magnif...   \n",
       "8297  العاب كاميرا رقمية بتصميم ديناصور للاطفال، احد...   \n",
       "8298  صندوق إضاءة السطح العلوي لطاولة التصوير الفوتو...   \n",
       "8299  كيت خلفية بورتريه بيضاء سادة مقاس 5 قدم 7 قدم ...   \n",
       "\n",
       "                                            Description   Catégorie  \\\n",
       "0     يوفر الجيل الثاني من Apple H1 H1 Sephone Gener...  إلكترونيات   \n",
       "1      سماعات رأس لاسلكية بخاصية إلغاء الضوضاء التوا...  إلكترونيات   \n",
       "2      JBL صوت جهوري عميق احصل على أقصى استفادة من خ...  إلكترونيات   \n",
       "3      استخدام مبهج بدون مجهود لا يتطلب تطبيق أو اشت...  إلكترونيات   \n",
       "4      شارك الصور والفيديو بشكل خاص وآمن أرسل الصور ...  إلكترونيات   \n",
       "...                                                 ...         ...   \n",
       "8295   مجهر مركب يستخدم المجهر للبالغين على نطاق واس...  إلكترونيات   \n",
       "8296  تم تصميم المجهر البيولوجي المجهر المركب Trinoc...  إلكترونيات   \n",
       "8297   ترقية جديدة كاميرات أمامية وخلفية مزدوجة بدقة...  إلكترونيات   \n",
       "8298   1 صندوق استوديو صور محمول 14 بوصة 16 بوصة ، إ...  إلكترونيات   \n",
       "8299   المقاس 5 7 قدم15 22 متر عرض 15 متر، ارتفاع 22...  إلكترونيات   \n",
       "\n",
       "           Sous-catégorie    Marque   Prix  Nombre de ventes  Evaluations  \\\n",
       "0     اكسسوارات ومستلزمات     Apple   42.0                 0          4.7   \n",
       "1     اكسسوارات ومستلزمات      Bose  299.0                 0          4.6   \n",
       "2     اكسسوارات ومستلزمات       JBL   49.0                 0          4.4   \n",
       "3     اكسسوارات ومستلزمات  Skylight  129.0                 0          4.7   \n",
       "4     اكسسوارات ومستلزمات   akimart   79.0                 0          4.6   \n",
       "...                   ...       ...    ...               ...          ...   \n",
       "8295         كاميرات وصور            149.0               300          4.2   \n",
       "8296         كاميرات وصور            276.0               100          3.9   \n",
       "8297         كاميرات وصور             28.0               700          4.4   \n",
       "8298         كاميرات وصور     EMART   19.0              1000          4.4   \n",
       "8299         كاميرات وصور              9.0              1000          4.4   \n",
       "\n",
       "                                 Lien de première image  \n",
       "0     https://m.media-amazon.com/images/I/417OJaY3DA...  \n",
       "1     https://m.media-amazon.com/images/I/51guNb9R-9...  \n",
       "2     https://m.media-amazon.com/images/I/41+1Csr1pS...  \n",
       "3     https://m.media-amazon.com/images/I/71VfNVFhpt...  \n",
       "4     https://m.media-amazon.com/images/I/71v8cZ36vw...  \n",
       "...                                                 ...  \n",
       "8295  https://m.media-amazon.com/images/I/71hV9tDJnM...  \n",
       "8296  https://m.media-amazon.com/images/I/71RcYoJCBr...  \n",
       "8297  https://m.media-amazon.com/images/I/61I7QRWcSn...  \n",
       "8298  https://m.media-amazon.com/images/I/61HyRFH--D...  \n",
       "8299  https://m.media-amazon.com/images/I/51S2L7sQFx...  \n",
       "\n",
       "[8300 rows x 11 columns]"
      ]
     },
     "execution_count": 61,
     "metadata": {},
     "output_type": "execute_result"
    }
   ],
   "source": [
    "data_set_cleaned"
   ]
  },
  {
   "cell_type": "code",
   "execution_count": 52,
   "id": "bc452361",
   "metadata": {},
   "outputs": [
    {
     "data": {
      "text/plain": [
       "' خاصية إلغاء الضوضاء المزدوجة للموسيقى المكثفة متوافق مع مساعد جوجل واليكسا صوت جهوري إضافي للحصول على صوت عميق ومثير للإعجاب استمع طوال اليوم، اشحن في دقائق اتصال أسهل وأكثر وضوحًا بدون استخدام اليدين ملاحظة إذا واجهت مشكلة في الاتصال بالبلوتوث، يرجى إيقاف تشغيل وظيفة البلوتوث لبضع دقائق، ثم إعادة تشغيلها التبديل بين الأجهزة دون عناء تحكم في متناول يدك إظهار المزيد'"
      ]
     },
     "execution_count": 52,
     "metadata": {},
     "output_type": "execute_result"
    }
   ],
   "source": [
    "data_set_cleaned['Description'][160]"
   ]
  },
  {
   "cell_type": "code",
   "execution_count": 46,
   "id": "3410eb20",
   "metadata": {},
   "outputs": [
    {
     "data": {
      "text/plain": [
       "'عن هذه السلعة\\nحجم جسم نحيف مع عدسة حلقية شفافة\\nالتعرض التلقائي - يختار ميني 11 تلقائيًا سرعة الغالق المثلى في أي بيئة. يلتقط ميني 11 خلفيات ساطعة وأهداف ساطعة، حتى في المشاهد المظلمة.\\nوضع سيلفي بلمسة واحدة - يحتوي جهاز ميني 11 على وضع ماكرو مدمج ومرآة سيلفي للحصول على صورة سيلفي مثالية. لا تحتاج إلى ملحق عدسة مقربة. ما عليك سوى سحب أسطوانة العدسة حتى تظهر علامة \"وضع السيلفي\"\\nقم بتخصيص الكاميرا الخاصة بك - يتضمن 2 من ملحقات زر الغالق - زر جوهرة وزر توهج.\\n2 - بطاريات ايه ايه'"
      ]
     },
     "execution_count": 46,
     "metadata": {},
     "output_type": "execute_result"
    }
   ],
   "source": []
  },
  {
   "cell_type": "code",
   "execution_count": 62,
   "id": "16878ff7",
   "metadata": {},
   "outputs": [],
   "source": [
    "description_df =  data_set_cleaned['Description']"
   ]
  },
  {
   "cell_type": "code",
   "execution_count": 63,
   "id": "0fe3a86e",
   "metadata": {},
   "outputs": [],
   "source": [
    "description_df.to_csv('description_df.csv', index=False, encoding='utf-8-sig')"
   ]
  },
  {
   "cell_type": "code",
   "execution_count": 57,
   "id": "12dcc8ee",
   "metadata": {},
   "outputs": [
    {
     "data": {
      "text/plain": [
       "' شارك الصور والفيديو بشكل خاص وآمن أرسل الصور أو مقاطع الفيديو الصغيرة بحد أقصى 15 ثانية مباشرة إلى تطبيق فريمو من أي مكان في العالم، يمكن للأصدقاء والعائلة الاستمتاع بلحظاتك الرائعة في غضون ثوانٍ على إطار اكيمارت WIFI يمنحك تطبيق فراميو لأجهزة اي او اس واندرويد تحكمًا كاملاً في إطارك تخزين سحابي مجاني غير محدود وذاكرة مدمجة 16 جيجابايت، تدعم بطاقة ميركو اس دي بحد أقصى 32 جيجابايت لتوسيع مساحة التخزين، كما يمكنها استيراد وتصدير الصور أو مقاطع الفيديو شاشة لمس IPS HD يتميز إطار الصورة الرقمي هذا مقاس 101 انش بشاشة لمس IPS بدقة 1280 800 مما يسمح لك بالحصول على رؤية جميلة من أي زاوية حتى في لمح البصر، يمكنك رؤية الصور بوضوح يدعم إطار الصورة تنسيق الصورة بواسطة JPGJPEGBMPPNG وتنسيق الفيديو بواسطة ام بي 4 وظائف مذهلةيمكن لإطار الصورة الرقمي اكيمارت واي فاي تدوير الصور تلقائيًا لضبط الاتجاه، ويأتي مع حامل قابل للفصل كحامل إطار، مما يسمح لك بمشاهدة الصور في وضع عمودي أو أفقي يمكن تركيبه على الحائط إعدادات مخصصة متعددة الوظائف، مثل ترتيب التشغيل، تكبير الصورة، إخفاءنشر الصور، تعليق العرض، سطوع قابل للتعديل، وضع النوم، إلخ سهل الإعداد والاستخدامتصميم واجهة سهل الاستخدام يجعله سهل الاستخدام لجميع الأعمار خطوات قليلة فقط لإكمال الإعداد وشاشة اللمس البديهية تجعل الاستخدام أسهل بكثير من أي وقت مضى هدية صادقة لأحبائك مناسبة لمختلف السيناريوهات وأعياد الميلاد والزفاف وحفلات التخرج والتجمعات العائلية وما إلى ذلك يمكن عرض جميع لحظاتك الثمينة والعزيزة على إطار الصورة الرقمي بدلاً من مجرد قفلها داخل هاتفك'"
      ]
     },
     "execution_count": 57,
     "metadata": {},
     "output_type": "execute_result"
    }
   ],
   "source": [
    "description_df[4]"
   ]
  },
  {
   "cell_type": "code",
   "execution_count": null,
   "id": "8c7e2aa4",
   "metadata": {},
   "outputs": [],
   "source": [
    "شاهد المزيد من تفاصيل المنتج\n",
    "شاهد المزيد من تفاصيل المنتج\n",
    "إظهار المزيد\n",
    "شاهد المزيد من تفاصيل المنتج"
   ]
  },
  {
   "cell_type": "code",
   "execution_count": null,
   "id": "9b71e3d3",
   "metadata": {},
   "outputs": [],
   "source": []
  },
  {
   "cell_type": "code",
   "execution_count": null,
   "id": "d822228b",
   "metadata": {},
   "outputs": [],
   "source": []
  },
  {
   "cell_type": "code",
   "execution_count": 65,
   "id": "9418b73d",
   "metadata": {},
   "outputs": [
    {
     "name": "stdout",
     "output_type": "stream",
     "text": [
      "<class 'pandas.core.frame.DataFrame'>\n",
      "RangeIndex: 8300 entries, 0 to 8299\n",
      "Data columns (total 11 columns):\n",
      " #   Column                  Non-Null Count  Dtype  \n",
      "---  ------                  --------------  -----  \n",
      " 0   Id                      8300 non-null   object \n",
      " 1   Lien de produit         8300 non-null   object \n",
      " 2   Nom                     8300 non-null   object \n",
      " 3   Description             8300 non-null   object \n",
      " 4   Catégorie               8300 non-null   object \n",
      " 5   Sous-catégorie          8300 non-null   object \n",
      " 6   Marque                  8300 non-null   object \n",
      " 7   Prix                    8300 non-null   float64\n",
      " 8   Nombre de ventes        8300 non-null   int64  \n",
      " 9   Evaluations             8300 non-null   float64\n",
      " 10  Lien de première image  8280 non-null   object \n",
      "dtypes: float64(2), int64(1), object(8)\n",
      "memory usage: 713.4+ KB\n"
     ]
    }
   ],
   "source": [
    "data_set_cleaned.info()"
   ]
  },
  {
   "cell_type": "code",
   "execution_count": 21,
   "id": "33374c5e",
   "metadata": {},
   "outputs": [
    {
     "data": {
      "text/plain": [
       "'Nettoyage des Symboles Pour_tous les champs éliminez les symboles suivants _'"
      ]
     },
     "execution_count": 21,
     "metadata": {},
     "output_type": "execute_result"
    }
   ],
   "source": [
    "d = 'Nettoyage des Symboles : Pour_tous les champs, éliminez les symboles suivants : ~!@#$%^&*()_+}{[]\":;?/.>,<|`...'\n",
    "nettoyer_description(d)"
   ]
  },
  {
   "cell_type": "code",
   "execution_count": 23,
   "id": "af76d206",
   "metadata": {},
   "outputs": [
    {
     "data": {
      "text/plain": [
       "'https://m.media-amazon.com/images/I/417OJaY3DAL.__AC_SY445_SX342_QL70_FMwebp_.jpg'"
      ]
     },
     "execution_count": 23,
     "metadata": {},
     "output_type": "execute_result"
    }
   ],
   "source": [
    "data_set['Lien de première image'][0]"
   ]
  },
  {
   "cell_type": "code",
   "execution_count": 38,
   "id": "bea6a9a1",
   "metadata": {},
   "outputs": [
    {
     "name": "stderr",
     "output_type": "stream",
     "text": [
      "C:\\Users\\lenovo\\AppData\\Local\\Temp\\ipykernel_14108\\3426515781.py:7: FutureWarning: The default value of regex will change from True to False in a future version.\n",
      "  prix_col = prix_col.astype(str).str.replace(r'\\.00', '')\n"
     ]
    }
   ],
   "source": [
    "prix = data_set['Prix']\n",
    "prix_net = nettoyer_prix(prix)"
   ]
  },
  {
   "cell_type": "code",
   "execution_count": 39,
   "id": "7ad7ca8a",
   "metadata": {},
   "outputs": [],
   "source": [
    "prix_net.to_csv('prix_net.csv', index=False, encoding='utf-8-sig')"
   ]
  },
  {
   "cell_type": "code",
   "execution_count": null,
   "id": "427d25aa",
   "metadata": {},
   "outputs": [],
   "source": []
  },
  {
   "cell_type": "code",
   "execution_count": null,
   "id": "b0345ed5",
   "metadata": {},
   "outputs": [],
   "source": []
  },
  {
   "cell_type": "code",
   "execution_count": 166,
   "id": "2db540cf",
   "metadata": {},
   "outputs": [],
   "source": [
    "df_Amazon_Electronique_test_test_1 = pd.read_csv('df_Amazon_Electronique.csv')"
   ]
  },
  {
   "cell_type": "code",
   "execution_count": 167,
   "id": "e30cbefa",
   "metadata": {},
   "outputs": [
    {
     "data": {
      "text/plain": [
       "' '"
      ]
     },
     "execution_count": 167,
     "metadata": {},
     "output_type": "execute_result"
    }
   ],
   "source": [
    "df_Amazon_Electronique_test_test_1['brand'][35]"
   ]
  },
  {
   "cell_type": "code",
   "execution_count": 168,
   "id": "505136e5",
   "metadata": {},
   "outputs": [
    {
     "data": {
      "text/plain": [
       "id                 0\n",
       "link               0\n",
       "name               0\n",
       "description        0\n",
       "category           0\n",
       "subcategory        0\n",
       "brand              0\n",
       "price              0\n",
       "number_of_sales    0\n",
       "ratings            0\n",
       "image_link         0\n",
       "dtype: int64"
      ]
     },
     "execution_count": 168,
     "metadata": {},
     "output_type": "execute_result"
    }
   ],
   "source": [
    "nan_counts_clean = df_Amazon_sport.isna().sum()\n",
    "nan_counts_clean"
   ]
  },
  {
   "cell_type": "code",
   "execution_count": 169,
   "id": "fccbea49",
   "metadata": {},
   "outputs": [
    {
     "data": {
      "text/plain": [
       "''"
      ]
     },
     "execution_count": 169,
     "metadata": {},
     "output_type": "execute_result"
    }
   ],
   "source": [
    "df_Amazon_sport['name'][53]"
   ]
  },
  {
   "cell_type": "code",
   "execution_count": null,
   "id": "f49ed542",
   "metadata": {},
   "outputs": [],
   "source": []
  }
 ],
 "metadata": {
  "kernelspec": {
   "display_name": "Python 3 (ipykernel)",
   "language": "python",
   "name": "python3"
  },
  "language_info": {
   "codemirror_mode": {
    "name": "ipython",
    "version": 3
   },
   "file_extension": ".py",
   "mimetype": "text/x-python",
   "name": "python",
   "nbconvert_exporter": "python",
   "pygments_lexer": "ipython3",
   "version": "3.9.13"
  }
 },
 "nbformat": 4,
 "nbformat_minor": 5
}
